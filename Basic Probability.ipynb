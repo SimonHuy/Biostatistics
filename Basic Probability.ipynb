{
 "cells": [
  {
   "cell_type": "markdown",
   "source": [
    "Probability  is the branch of mathematics concerning numerical descriptions of how likely an event is to occur, or how likely it is that a proposition is true. The probability of an event is a number between 0 and 1, where, roughly speaking, 0 indicates impossibility of the event and 1 indicates certainty. The higher the probability of an event, the more likely it is that the event will occur (https://en.wikipedia.org/wiki/Probability)\r\n",
    "\r\n",
    "$$ P(A) = \\frac{n(A)}{n(S)}$$\r\n",
    "\r\n",
    "                                0 <= P(A) <= 1 or 0% <= P(A) <= 100%"
   ],
   "metadata": {}
  },
  {
   "cell_type": "markdown",
   "source": [
    "Basic definition:\r\n",
    "\r\n",
    "+ Set - a collection of elements or objects of interest\r\n",
    "\r\n",
    "+ Empty set (denoted by ∅) a set containing no elements \r\n",
    "\r\n",
    "+ Universal set (denoted by S) a set containing all possible elements \r\n",
    "\r\n",
    "+ Complement (Not). The complement of A is  a set containing all elements of S not in A\r\n",
    "$$(A' or A^c)$$\r\n",
    "\r\n",
    "+ Intersection (And) (A ∩ B) – a set containing all elements in both A and B \r\n",
    "\r\n",
    "+ Union (Or) (A u B) – a set containing all elements in A or B or both \r\n",
    "\r\n",
    "+ Mutually Exclusive or Disjoint Sets: A n B = 0\r\n",
    "\r\n",
    "\r\n"
   ],
   "metadata": {}
  },
  {
   "cell_type": "markdown",
   "source": [],
   "metadata": {}
  },
  {
   "cell_type": "markdown",
   "source": [
    "Basic formula:\r\n",
    "\r\n",
    "+ $$P(A n B) = \\frac{n(A n B)}{n(S)}$$\r\n",
    "\r\n",
    "+ $$P(A^c) = 1 - P(A)$$\r\n",
    "\r\n",
    "+ $$P(A u B) = \\frac{n(A u B)}{n(S)} = P(A) + P(B) - P(A n B)$$\r\n",
    "\r\n",
    "+ Conditional probability of A given B:\r\n",
    "$$P(A|B) = \\frac{P(A n B)}{P(B)}$$\r\n",
    "                        where P(B) not equal to 0 (P(B) != 0)"
   ],
   "metadata": {}
  },
  {
   "cell_type": "markdown",
   "source": [
    "Exercise 1: What is the probability of rolling a dice and its value is less than 4 knowing that the value is an odd number?"
   ],
   "metadata": {}
  },
  {
   "cell_type": "code",
   "execution_count": 8,
   "source": [
    "# Let A is the event that a dice after rolling is less than 4 and an odd number\r\n",
    "# A = {1,3}\r\n",
    "A = {1,3}\r\n",
    "nA = len(A) # Count how many numbers in set A\r\n",
    "\r\n",
    "# Let S is the universal set that the dice value is an odd number\r\n",
    "S = {1,3,6}\r\n",
    "nS =len(S) # Count how many numbers in set B\r\n",
    "\r\n",
    "# Compute the probility of event A\r\n",
    "probA = nA/nS\r\n",
    "\r\n",
    "# Print output\r\n",
    "print(probA)"
   ],
   "outputs": [
    {
     "output_type": "stream",
     "name": "stdout",
     "text": [
      "0.6666666666666666\n"
     ]
    }
   ],
   "metadata": {}
  },
  {
   "cell_type": "markdown",
   "source": [
    "The answer is 0.667 or 66.7% "
   ],
   "metadata": {}
  },
  {
   "cell_type": "markdown",
   "source": [
    "Exercise 2: At the International University, the probability that a student takes Computer Programming and Spanish is 0.15. The probability that a student takes Computer Programming is 0.4.\r\n",
    "\r\n",
    "What is the probability that a student takes Spanish given that the student is taking Computer Programming?\r\n"
   ],
   "metadata": {}
  },
  {
   "cell_type": "code",
   "execution_count": 12,
   "source": [
    "# First, summarize and denote\r\n",
    "# Let A be the event that a student takes Computer Programming\r\n",
    "CP = 0.4\r\n",
    "\r\n",
    "# Let B be the event that a student takes Computer Programming and Spanish is 0.15\r\n",
    "CPnSp = 0.15\r\n",
    "\r\n",
    "# Compute the probability that a student takes Spanish given that the student is taking Computer Programming\r\n",
    "# P(B|A) = P(AnB) / P(A)\r\n",
    "prob = CPnSp / CP\r\n",
    "\r\n",
    "# Print output\r\n",
    "print(prob)\r\n",
    "\r\n",
    "\r\n"
   ],
   "outputs": [
    {
     "output_type": "stream",
     "name": "stdout",
     "text": [
      "0.37499999999999994\n"
     ]
    }
   ],
   "metadata": {}
  },
  {
   "cell_type": "markdown",
   "source": [
    "The probability that a student takes Spanish given that the student is taking \r\n",
    "Computer Programming is 37.5%"
   ],
   "metadata": {}
  },
  {
   "cell_type": "markdown",
   "source": [
    "Exercise 3: Here are the results of a survey completed with adult parents with children. \r\n",
    "\r\n",
    " "
   ],
   "metadata": {}
  },
  {
   "cell_type": "markdown",
   "source": [
    "|   | Too Expensive  | Affordable  | Too cheap  |   \r\n",
    "|---|---|---|---|\r\n",
    "|  Child in college | 55%  | 4%  | 0%  |   \r\n",
    "|  Child not in college | 30%  | 8%  | 3%  |   \r\n"
   ],
   "metadata": {}
  },
  {
   "cell_type": "markdown",
   "source": [
    "What is the probability a person thinks college is too expensive given they have a child in\r\n",
    "college?\r\n",
    "\r\n",
    "P(Child in College) = P(CiC) = 55% + 4% + 0% = 59%\r\n",
    "\r\n",
    "P(CiC n TooExp) = 55%\r\n",
    "\r\n",
    "$$P(TooExp | CiC) = \\frac{0.55}{0.59} = 0.932$$\r\n"
   ],
   "metadata": {}
  },
  {
   "cell_type": "markdown",
   "source": [
    "Exercise 4: Forty seven mice were divided according to species and nutrition levels as follows:\r\n"
   ],
   "metadata": {}
  },
  {
   "cell_type": "markdown",
   "source": [
    "\r\n",
    "|   | High nutrition (H)  | Low Nutrition (L)  |   \r\n",
    "|---|---|---|\r\n",
    "|  A | 15  | 10  |   \r\n",
    "|  B | 9  | 13  | \r\n",
    "\r\n"
   ],
   "metadata": {}
  },
  {
   "cell_type": "markdown",
   "source": [
    "a/ Find P(B u L)\r\n",
    "\r\n",
    "b/ Find P(A|H)\r\n",
    "\r\n",
    "c/ Are events A and H independent on each other?"
   ],
   "metadata": {}
  },
  {
   "cell_type": "markdown",
   "source": [
    "The value in the provided table were not in forms of probability\r\n",
    "\r\n",
    "Thus, first, we have to take each number and divide by 47 to find probability\r\n",
    "\r\n",
    "Then, we can use those value after division to answer the questions\r\n"
   ],
   "metadata": {}
  },
  {
   "cell_type": "markdown",
   "source": [
    "\r\n",
    "|   | High nutrition (H)  | Low Nutrition (L)  |   \r\n",
    "|---|---|---|\r\n",
    "|  A | 15/47  | 10/47  |   \r\n",
    "|  B | 9/47  | 13/47  | \r\n",
    "\r\n"
   ],
   "metadata": {}
  },
  {
   "cell_type": "markdown",
   "source": [
    "a/ P(B) = 9/47 + 13/47 = 22/47\r\n",
    "\r\n",
    "P(L) = 10/47 + 13/47 = 23/47\r\n",
    "\r\n",
    "P(B n L) = 13/47\r\n",
    "\r\n",
    "P (B u L ) = P(B) + P(L) - P(B n L) = 22/47 + 23/47 - 13/47 = 32/47 = 0.681"
   ],
   "metadata": {}
  },
  {
   "cell_type": "code",
   "execution_count": 14,
   "source": [
    "pB = 9/47 + 13/47\r\n",
    "pL = 10/47 + 13/47\r\n",
    "pBnL = 13/47\r\n",
    "\r\n",
    "pBuL = pB + pL - pBnL\r\n",
    "\r\n",
    "print(pBuL)"
   ],
   "outputs": [
    {
     "output_type": "stream",
     "name": "stdout",
     "text": [
      "0.6808510638297873\n"
     ]
    }
   ],
   "metadata": {}
  },
  {
   "cell_type": "markdown",
   "source": [
    "b/ p(H) = 15/47 + 9/47 = 24/47\r\n",
    "\r\n",
    "p(A n H) = 15/47\r\n",
    "\r\n",
    "p(A|H) = P(A n H) / P(H) = (15/47) / (24/47) = 15/24 = 0.625\r\n"
   ],
   "metadata": {}
  },
  {
   "cell_type": "code",
   "execution_count": 18,
   "source": [
    "pH = 15/47 + 9/47\r\n",
    "\r\n",
    "pAnH = 15/47\r\n",
    "\r\n",
    "pA_given_H = pAnH / pH\r\n",
    "\r\n",
    "print(pA_given_H)\r\n",
    "\r\n"
   ],
   "outputs": [
    {
     "output_type": "stream",
     "name": "stdout",
     "text": [
      "0.625\n"
     ]
    }
   ],
   "metadata": {}
  },
  {
   "cell_type": "markdown",
   "source": [
    "c/ Events A and H are independent if the equation P(A n H) = P(A) * P(H) holds true\r\n",
    "\r\n",
    "p(A n H) = 15/47\r\n",
    "\r\n",
    "p(A)*p(H) = 25/47 * 24/47 = 600/2209 \r\n",
    "\r\n",
    "Since p(A n H) does not equal p(A)*p(H)\r\n",
    "\r\n",
    "Thus, A and H are not independent events"
   ],
   "metadata": {}
  }
 ],
 "metadata": {
  "orig_nbformat": 4,
  "language_info": {
   "name": "python",
   "version": "3.9.1",
   "mimetype": "text/x-python",
   "codemirror_mode": {
    "name": "ipython",
    "version": 3
   },
   "pygments_lexer": "ipython3",
   "nbconvert_exporter": "python",
   "file_extension": ".py"
  },
  "kernelspec": {
   "name": "python3",
   "display_name": "Python 3.9.1 64-bit"
  },
  "interpreter": {
   "hash": "b04f92276c7f1f1d3a26077c5c09795688850f60751ffad3d76423a408f11422"
  }
 },
 "nbformat": 4,
 "nbformat_minor": 2
}