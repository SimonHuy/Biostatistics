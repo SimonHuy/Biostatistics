{
  "nbformat": 4,
  "nbformat_minor": 0,
  "metadata": {
    "colab": {
      "name": "3 class ",
      "provenance": [],
      "collapsed_sections": [],
      "include_colab_link": true
    },
    "kernelspec": {
      "display_name": "Python 3",
      "name": "python3"
    },
    "accelerator": "GPU"
  },
  "cells": [
    {
      "cell_type": "markdown",
      "metadata": {
        "id": "view-in-github",
        "colab_type": "text"
      },
      "source": [
        "<a href=\"https://colab.research.google.com/github/SimonHuy/Biostatistics/blob/main/3_class.ipynb\" target=\"_parent\"><img src=\"https://colab.research.google.com/assets/colab-badge.svg\" alt=\"Open In Colab\"/></a>"
      ]
    },
    {
      "cell_type": "markdown",
      "metadata": {
        "id": "rX8mhOLljYeM"
      },
      "source": [
        "##### Copyright 2019 The TensorFlow Authors."
      ]
    },
    {
      "cell_type": "code",
      "metadata": {
        "cellView": "form",
        "id": "BZSlp3DAjdYf"
      },
      "source": [
        "#@title Licensed under the Apache License, Version 2.0 (the \"License\");\n",
        "# you may not use this file except in compliance with the License.\n",
        "# You may obtain a copy of the License at\n",
        "#\n",
        "# https://www.apache.org/licenses/LICENSE-2.0\n",
        "#\n",
        "# Unless required by applicable law or agreed to in writing, software\n",
        "# distributed under the License is distributed on an \"AS IS\" BASIS,\n",
        "# WITHOUT WARRANTIES OR CONDITIONS OF ANY KIND, either express or implied.\n",
        "# See the License for the specific language governing permissions and\n",
        "# limitations under the License."
      ],
      "execution_count": null,
      "outputs": []
    },
    {
      "cell_type": "code",
      "metadata": {
        "id": "it1c0jCiNCIM",
        "colab": {
          "base_uri": "https://localhost:8080/"
        },
        "outputId": "29be5437-1141-4731-d12d-81570633ed02"
      },
      "source": [
        "!wget --no-check-certificate \\\n",
        "    https://storage.googleapis.com/laurencemoroney-blog.appspot.com/rps.zip \\\n",
        "    -O /tmp/rps.zip\n",
        "  \n",
        "!wget --no-check-certificate \\\n",
        "    https://storage.googleapis.com/laurencemoroney-blog.appspot.com/rps-test-set.zip \\\n",
        "    -O /tmp/rps-test-set.zip"
      ],
      "execution_count": null,
      "outputs": [
        {
          "output_type": "stream",
          "text": [
            "--2021-06-21 04:38:38--  https://storage.googleapis.com/laurencemoroney-blog.appspot.com/rps.zip\n",
            "Resolving storage.googleapis.com (storage.googleapis.com)... 172.217.15.80, 142.250.73.240, 142.251.33.208, ...\n",
            "Connecting to storage.googleapis.com (storage.googleapis.com)|172.217.15.80|:443... connected.\n",
            "HTTP request sent, awaiting response... 200 OK\n",
            "Length: 200682221 (191M) [application/zip]\n",
            "Saving to: ‘/tmp/rps.zip’\n",
            "\n",
            "/tmp/rps.zip        100%[===================>] 191.38M   152MB/s    in 1.3s    \n",
            "\n",
            "2021-06-21 04:38:40 (152 MB/s) - ‘/tmp/rps.zip’ saved [200682221/200682221]\n",
            "\n",
            "--2021-06-21 04:38:40--  https://storage.googleapis.com/laurencemoroney-blog.appspot.com/rps-test-set.zip\n",
            "Resolving storage.googleapis.com (storage.googleapis.com)... 142.250.65.80, 172.217.7.240, 172.217.8.16, ...\n",
            "Connecting to storage.googleapis.com (storage.googleapis.com)|142.250.65.80|:443... connected.\n",
            "HTTP request sent, awaiting response... 200 OK\n",
            "Length: 29516758 (28M) [application/zip]\n",
            "Saving to: ‘/tmp/rps-test-set.zip’\n",
            "\n",
            "/tmp/rps-test-set.z 100%[===================>]  28.15M  --.-KB/s    in 0.1s    \n",
            "\n",
            "2021-06-21 04:38:40 (225 MB/s) - ‘/tmp/rps-test-set.zip’ saved [29516758/29516758]\n",
            "\n"
          ],
          "name": "stdout"
        }
      ]
    },
    {
      "cell_type": "code",
      "metadata": {
        "colab": {
          "base_uri": "https://localhost:8080/"
        },
        "id": "093Ql4m63jHH",
        "outputId": "1a31ab2f-fe44-4512-9766-ad13ad1c8b6b"
      },
      "source": [
        "!tail /tmp/rps/scissors/scissors01-000.png"
      ],
      "execution_count": null,
      "outputs": [
        {
          "output_type": "stream",
          "text": [
            "�J~�����\u0004|�h�`��I \u0001��.T��\t�e���Y#T�S$�\u0013�b�'T���`OF\u001d� b�Z��|1�J��BJ�I���s�,L���ce=���'W-Ndd{֛B1'!����r�����\u0003�\u0000��O؂�\u001b~�5�\u0006e�㟊\u0015��8>�\u001e��\u000e�j�N���ZG�p~/?\u0002�#=M\u001c\u0019��=\u0012�ukwޫXE�2�\u0001�6\"�\u0001\u0011@���\u001a�᤽\u0001Z� W��\u0011�\u000e����ʦR�y�D�\u0002�u�=�C�_n�'�����O����´R��]�>�2��C`U��ü\"H�I�x�T�ѓ�R��d\u0006q{\u0012�\u0000(�\u000b\u000bAEO\n",
            "��߂�\u0007�Z\u0015S���_\u0007#�a���T����\u0012�:vL?F�{�;V�\u0005\u000e+\u0003����\"/\u0016���\u0000�~�c%n� st7�<\u0002Hݱ��0ɮHo|B\u0007Z�;�\u0001���/�\u0013h�םt��\t�'z>\u001c��~\u000eS�9��,L��(\u0010��a�+\u0010\u001c\u0000\u0018��\u0018�f�vb���\u001d\u000bb�\u0006h6�*�ϫ^:As��/ύ'\u0001�<�ufY:�j6&oT9�>Y[�=����\u0019\u0019x~�V3-����I�D�lڪ�j��}\u001d��������R�\u0010�\u0005X���m�̼\u001cL�h��\u0014Zs����~�>f\u0014�\t�C\u0007W��A�n,To��q��2��a�\u001a�'����_���\u0019eT3Þ�po\u0018\r\u0000\u0016ֲ8u���/8b��>��}����{8��\t\u001b\u0000�\u000f����\u0016P��]ϴ3v�ZdZ8\u0011�'��)\u001cb%��q���c���Κ�p�o\n",
            "51�\"\u001a�^�|P�L�J�&m9����*\b+s��I���c~���)�\u0000�eA�\u0004p�_��\n",
            "�T������/n<O�'�3!�Yu�s��:��W��5\u0004?��}�RO\bP\u0005\u0002\u000bC%�\n",
            "�\n",
            "�jv\u0002fVu������]��L��g��\u0004���v���}\u000b2U\"��8L�i�� �\u001c����ߘ�7pV�֜X���\u0017zK?��c�8����\u0000����FwGǄ��\u0013z\u0010H�\u0001�\r�0�{탆\u0000k���z�\u000exë�ه�\u000f��\u000f����~P��qt؉�jt��\n",
            "����!h�Y�Y�='&�sTsA��*8޾�c�����y��[}�*@����,���]�cW\u0006�Οu�*��,��^��?��:1�\u0010OB&/�������0��\tuK�\u0002Z����r\u0019�\u0006�\u0012��>W~/mK՞J�f_�w���j�uҘ5#�Gc�T�p[+�����QL�t�sY\u0015���1^\u0003{4���Gx���9�B\u001b#\u0004�Y�k�aMD\b\u0002\"{�c°a6�\u0013�e�}B�ñ-��\r+�[��Z����u�\u001e\u001e�9��5�v��0��p��l�Ɉv\u0000'\u001drH��;zf!�o��|�����/�}�Ѥ=�W�h�Kۢ����|�s�\u0012�\n",
            "\u0004X�p߸|�u}p�\u0005c<�(��\"BU�JS%���ߘ�|U�0/f�|V͝��B��V\u001dМxZV�\n",
            "�\u001a�6\u0015�0�ו�J��f��\u0018A��p]\u0017�Z�������~�o�����eAgf7�RD�>\u0013��\u0018��Z\u000b�f�Sk��8(���\b-�\u0001�\rn�\u000b��\tk\u001b��d\u000b\u0004���\u001b����\u0006F����\r�\u000eG�Q��\u0018��u��8H\u0002�I(\b\u0007�#�=\u0012\u0007F���c����`X����\u001eǷGN/߹V�(\f�\"P�f^���'�b�wխ�\u0017��PY!�W*@x��R�\u0004��/}W�\u0003�Q�CUW�\t�/��\u0004���2� �\u0000��WD��\"ק\u0002���N���@��ƄT\"�d�4\u001a3Z\u0005�ٷ�L�}T_�\"8n��df�\u0004w�u]�L2\u001e�|������ս��}^���\u0005U�H�R(*?��\u001bc�v\u0017_���t7�\\�3S\f���1��gkh�0��\u0006�\u001a�6�-\u0018\">*6)#B\u000f�c�\u0001�@�/�\rk.,\u000f�o�\u00172d�Y�u\u001b�\u0004G /����\u0007\f��:R\"���7��ޘ�g/e^��ʿ̻I����\u000b;|)bb�bޮ��6T\u0002�\u0015��=\u0016l��u�j}���>�;*T�~eÀyO;�\u0013S\u0007&��I�(�I�1�U�U�֓��z��j\u0016�0���J�V\bM7�V��\u0000�`RTǃ��U\u001d�Z�2Q>��]\u00121q�\u0017\u0016>�AU��fy��e\u001e`s�Ǆs��y7�`:0�#m2vl&���O*�}�\u0010\u001e?�||>�4�'�K��Y��\u0019��:c6�\u001b\u0011����r\u0018�\b��ގf�Ȑ�\u0018=��[\u0003�v���uE`�>I\u0003[n�9s'�����_��x8�\u0013�\n",
            "��}�5u\u001d<)l�#�+�����\u0013�W�\r.G���Q�U]\u001d�\u000fɈ9��t�\u0001\u0000\u0000\u0000\u0000IEND�B`�"
          ],
          "name": "stdout"
        }
      ]
    },
    {
      "cell_type": "code",
      "metadata": {
        "id": "PnYP_HhYNVUK"
      },
      "source": [
        "import os\n",
        "import zipfile\n",
        "\n",
        "local_zip = '/tmp/rps.zip'\n",
        "zip_ref = zipfile.ZipFile(local_zip, 'r')\n",
        "zip_ref.extractall('/tmp/')\n",
        "zip_ref.close()\n",
        "\n",
        "local_zip = '/tmp/rps-test-set.zip'\n",
        "zip_ref = zipfile.ZipFile(local_zip, 'r')\n",
        "zip_ref.extractall('/tmp/')\n",
        "zip_ref.close()"
      ],
      "execution_count": null,
      "outputs": []
    },
    {
      "cell_type": "code",
      "metadata": {
        "id": "MrxdR83ANgjS",
        "colab": {
          "base_uri": "https://localhost:8080/"
        },
        "outputId": "9d2f5647-22d0-481d-cc48-080fe2db808e"
      },
      "source": [
        "rock_dir = os.path.join('/tmp/rps/rock')\n",
        "paper_dir = os.path.join('/tmp/rps/paper')\n",
        "scissors_dir = os.path.join('/tmp/rps/scissors')\n",
        "\n",
        "print('total training rock images:', len(os.listdir(rock_dir)))\n",
        "print('total training paper images:', len(os.listdir(paper_dir)))\n",
        "print('total training scissors images:', len(os.listdir(scissors_dir)))\n",
        "\n",
        "rock_files = os.listdir(rock_dir)\n",
        "print(rock_files[:10])\n",
        "\n",
        "paper_files = os.listdir(paper_dir)\n",
        "print(paper_files[:10])\n",
        "\n",
        "scissors_files = os.listdir(scissors_dir)\n",
        "print(scissors_files[:10])"
      ],
      "execution_count": null,
      "outputs": [
        {
          "output_type": "stream",
          "text": [
            "total training rock images: 840\n",
            "total training paper images: 840\n",
            "total training scissors images: 840\n",
            "['rock04-050.png', 'rock02-046.png', 'rock04-015.png', 'rock06ck02-117.png', 'rock02-072.png', 'rock05ck01-070.png', 'rock04-092.png', 'rock05ck01-040.png', 'rock04-101.png', 'rock06ck02-102.png']\n",
            "['paper04-077.png', 'paper01-060.png', 'paper04-033.png', 'paper07-088.png', 'paper07-026.png', 'paper03-020.png', 'paper01-062.png', 'paper06-000.png', 'paper01-076.png', 'paper06-081.png']\n",
            "['testscissors03-071.png', 'testscissors02-086.png', 'testscissors03-061.png', 'scissors03-055.png', 'scissors02-029.png', 'testscissors02-062.png', 'testscissors03-031.png', 'testscissors02-064.png', 'testscissors02-103.png', 'scissors03-061.png']\n"
          ],
          "name": "stdout"
        }
      ]
    },
    {
      "cell_type": "code",
      "metadata": {
        "id": "jp9dLel9N9DS"
      },
      "source": [
        "%matplotlib inline\n",
        "\n",
        "import matplotlib.pyplot as plt\n",
        "import matplotlib.image as mpimg\n",
        "\n",
        "pic_index = 2\n",
        "\n",
        "next_rock = [os.path.join(rock_dir, fname) \n",
        "                for fname in rock_files[pic_index-2:pic_index]]\n",
        "next_paper = [os.path.join(paper_dir, fname) \n",
        "                for fname in paper_files[pic_index-2:pic_index]]\n",
        "next_scissors = [os.path.join(scissors_dir, fname) \n",
        "                for fname in scissors_files[pic_index-2:pic_index]]\n",
        "\n",
        "for i, img_path in enumerate(next_rock+next_paper+next_scissors):\n",
        "  #print(img_path)\n",
        "  img = mpimg.imread(img_path)\n",
        "  plt.imshow(img)\n",
        "  plt.axis('Off')\n",
        "  plt.show()"
      ],
      "execution_count": null,
      "outputs": []
    },
    {
      "cell_type": "code",
      "metadata": {
        "id": "LWTisYLQM1aM"
      },
      "source": [
        "import tensorflow as tf\n",
        "import keras_preprocessing\n",
        "from keras_preprocessing import image\n",
        "from keras_preprocessing.image import ImageDataGenerator\n",
        "\n",
        "TRAINING_DIR = \"/tmp/rps/\"\n",
        "training_datagen = ImageDataGenerator(\n",
        "      rescale = 1./255,\n",
        "\t    rotation_range=40,\n",
        "      width_shift_range=0.2,\n",
        "      height_shift_range=0.2,\n",
        "      shear_range=0.2,\n",
        "      zoom_range=0.2,\n",
        "      horizontal_flip=True,\n",
        "      fill_mode='nearest')\n",
        "\n",
        "VALIDATION_DIR = \"/tmp/rps-test-set/\"\n",
        "validation_datagen = ImageDataGenerator(rescale = 1./255)\n",
        "\n",
        "train_generator = training_datagen.flow_from_directory(\n",
        "\tTRAINING_DIR,\n",
        "\ttarget_size=(150,150),\n",
        "\tclass_mode='categorical',\n",
        "  batch_size=126\n",
        ")\n",
        "\n",
        "validation_generator = validation_datagen.flow_from_directory(\n",
        "\tVALIDATION_DIR,\n",
        "\ttarget_size=(150,150),\n",
        "\tclass_mode='categorical',\n",
        "  batch_size=126\n",
        ")\n",
        "\n",
        "model = tf.keras.models.Sequential([\n",
        "    # Note the input shape is the desired size of the image 150x150 with 3 bytes color\n",
        "    # This is the first convolution\n",
        "    tf.keras.layers.Conv2D(64, (3,3), activation='relu', input_shape=(150, 150, 3)),\n",
        "    tf.keras.layers.MaxPooling2D(2, 2),\n",
        "    # The second convolution\n",
        "    tf.keras.layers.Conv2D(64, (3,3), activation='relu'),\n",
        "    tf.keras.layers.MaxPooling2D(2,2),\n",
        "    # The third convolution\n",
        "    tf.keras.layers.Conv2D(128, (3,3), activation='relu'),\n",
        "    tf.keras.layers.MaxPooling2D(2,2),\n",
        "    # The fourth convolution\n",
        "    tf.keras.layers.Conv2D(128, (3,3), activation='relu'),\n",
        "    tf.keras.layers.MaxPooling2D(2,2),\n",
        "    # Flatten the results to feed into a DNN\n",
        "    tf.keras.layers.Flatten(),\n",
        "    tf.keras.layers.Dropout(0.5),\n",
        "    # 512 neuron hidden layer\n",
        "    tf.keras.layers.Dense(512, activation='relu'),\n",
        "    tf.keras.layers.Dense(3, activation='softmax')\n",
        "])\n",
        "\n",
        "\n",
        "model.summary()\n",
        "\n",
        "model.compile(loss = 'categorical_crossentropy', optimizer='rmsprop', metrics=['accuracy'])\n",
        "\n",
        "history = model.fit(train_generator, epochs=25, steps_per_epoch=20, validation_data = validation_generator, verbose = 1, validation_steps=3)\n",
        "\n",
        "model.save(\"rps.h5\")\n"
      ],
      "execution_count": null,
      "outputs": []
    },
    {
      "cell_type": "code",
      "metadata": {
        "id": "aeTRVCr6aosw"
      },
      "source": [
        "import matplotlib.pyplot as plt\n",
        "acc = history.history['accuracy']\n",
        "val_acc = history.history['val_accuracy']\n",
        "loss = history.history['loss']\n",
        "val_loss = history.history['val_loss']\n",
        "\n",
        "epochs = range(len(acc))\n",
        "\n",
        "plt.plot(epochs, acc, 'r', label='Training accuracy')\n",
        "plt.plot(epochs, val_acc, 'b', label='Validation accuracy')\n",
        "plt.title('Training and validation accuracy')\n",
        "plt.legend(loc=0)\n",
        "plt.figure()\n",
        "\n",
        "\n",
        "plt.show()"
      ],
      "execution_count": null,
      "outputs": []
    },
    {
      "cell_type": "code",
      "metadata": {
        "id": "ZABJp7T3VLCU"
      },
      "source": [
        "import numpy as np\n",
        "from google.colab import files\n",
        "from keras.preprocessing import image\n",
        "\n",
        "uploaded = files.upload()\n",
        "\n",
        "for fn in uploaded.keys():\n",
        " \n",
        "  # predicting images\n",
        "  path = fn\n",
        "  img = image.load_img(path, target_size=(150, 150))\n",
        "  x = image.img_to_array(img)\n",
        "  x = np.expand_dims(x, axis=0)\n",
        "\n",
        "  images = np.vstack([x])\n",
        "  classes = model.predict(images, batch_size=10)\n",
        "  print(fn)\n",
        "  print(classes)"
      ],
      "execution_count": null,
      "outputs": []
    }
  ]
}