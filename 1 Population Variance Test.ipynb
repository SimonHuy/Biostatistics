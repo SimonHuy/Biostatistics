{
 "cells": [
  {
   "cell_type": "markdown",
   "source": [
    "Chi-square Test For Population Variance"
   ],
   "metadata": {}
  },
  {
   "cell_type": "markdown",
   "source": [
    "$$\\chi^2 = \\frac{(n - 1)S^2}{\\sigma^2}$$"
   ],
   "metadata": {}
  },
  {
   "cell_type": "markdown",
   "source": [
    "where:\r\n",
    "\r\n",
    "+ n is the sample size \r\n",
    "\r\n",
    "+ $S^2$ is the sample variance\r\n",
    "\r\n",
    "+ $\\sigma^2$ is the population variance"
   ],
   "metadata": {}
  },
  {
   "cell_type": "markdown",
   "source": [
    "Exericse 1: An analysist is interested in the variance in time required to observe some medical effects of a newly developed drug at a clinical trial center. The drug developer will readjust the ingredients of the medicine if there is sufficient evidence (at $\\alpha$ = 0.01) that the population variance exceeds 20 hours. A sample of 31 trails exhibits a sample variance of 31.2 hours. What do the results of this analysis suggest about the drug ingredient readjustment?"
   ],
   "metadata": {}
  },
  {
   "cell_type": "markdown",
   "source": [
    "$$H_o: \\sigma^2 \\le 20$$"
   ],
   "metadata": {}
  },
  {
   "cell_type": "markdown",
   "source": [
    "$$H_1: \\sigma^2 > 20$$"
   ],
   "metadata": {}
  },
  {
   "cell_type": "code",
   "execution_count": 5,
   "source": [
    "n = 31\r\n",
    "df = n - 1 # degrees of freedom\r\n",
    "pop_var = 20\r\n",
    "sample_var = 31.2\r\n",
    "alpha = 0.01"
   ],
   "outputs": [],
   "metadata": {}
  },
  {
   "cell_type": "code",
   "execution_count": 12,
   "source": [
    "# Compute test statistics chi_square_score\r\n",
    "chi_square_score = ((n - 1)*sample_var)/pop_var\r\n",
    "print(\"Test statistic Chi-square score =\", chi_square_score)\r\n",
    "\r\n",
    "# Compute critical value of right tailed test\r\n",
    "from scipy.stats import chi2\r\n",
    "critical_value = chi2.ppf(1-alpha, df)\r\n",
    "print(\"Critical value =\", critical_value)\r\n",
    "\r\n",
    "p_value = 1 - chi2.cdf(chi_square_score, df)\r\n",
    "print(\"p_value = \",p_value)"
   ],
   "outputs": [
    {
     "output_type": "stream",
     "name": "stdout",
     "text": [
      "Test statistic Chi-square score = 46.8\n",
      "Critical value = 50.89218131151707\n",
      "p_value =  0.026025000893334038\n"
     ]
    }
   ],
   "metadata": {}
  },
  {
   "cell_type": "markdown",
   "source": [
    "Since the test statistic Chi-square score < critical value (46.8 < 50.892)\r\n",
    "\r\n",
    "We do not reject $H_o$\r\n",
    "\r\n",
    "Conclusion: The developer does not need to readjust the drug ingredient since the population does not exceed 20 hours."
   ],
   "metadata": {}
  }
 ],
 "metadata": {
  "orig_nbformat": 4,
  "language_info": {
   "name": "python",
   "version": "3.9.1",
   "mimetype": "text/x-python",
   "codemirror_mode": {
    "name": "ipython",
    "version": 3
   },
   "pygments_lexer": "ipython3",
   "nbconvert_exporter": "python",
   "file_extension": ".py"
  },
  "kernelspec": {
   "name": "python3",
   "display_name": "Python 3.9.1 64-bit"
  },
  "interpreter": {
   "hash": "b04f92276c7f1f1d3a26077c5c09795688850f60751ffad3d76423a408f11422"
  }
 },
 "nbformat": 4,
 "nbformat_minor": 2
}