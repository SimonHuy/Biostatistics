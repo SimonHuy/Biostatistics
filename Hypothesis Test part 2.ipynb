{
 "cells": [
  {
   "cell_type": "markdown",
   "source": [
    "Hypothesis Test For 1 Population Mean"
   ],
   "metadata": {}
  },
  {
   "cell_type": "markdown",
   "source": [
    "A Z-test is a hypothesis test that compares the mean of your sample data to a known value.\r\n",
    "\r\n",
    "We ca use Z-test if:\r\n",
    "\r\n",
    "+ The population standard deviation ($\\sigma$) is known\r\n",
    "\r\n",
    "+ The sample size (n) is larger than 30 (otherwise use a t-test)\r\n",
    "\r\n",
    "+ Your data should be normally distributed. However, for large sample sizes (over 30) this doesn’t always matter\r\n",
    "\r\n",
    "+ Your data should be randomly selected from a population, where each item has an equal chance of being selected.\r\n",
    "\r\n",
    "+ Sample sizes should be equal if at all possible."
   ],
   "metadata": {}
  },
  {
   "cell_type": "markdown",
   "source": [
    "Exercise 1: In an anthropological study of animial craniums it was found that the mean circumference of a buffalo's skull is 50 inches with a variance of 25. A pit study at an Indian reservation yielded 64 animals skulls with a mean circumference of 64 inches. Test whether the animal at Indian reservation were buffaloes or not?"
   ],
   "metadata": {}
  },
  {
   "cell_type": "markdown",
   "source": [
    "Step 1: State the null and the alternative hypothesis\r\n",
    "\r\n",
    "n = 64 \r\n",
    "\r\n",
    "$\\bar{X} = 64$\r\n",
    "\r\n",
    "$\\sigma^2 = 25$ => $\\sigma = 5$\r\n",
    "\r\n",
    "$\\mu = 50 inches$\r\n",
    "\r\n",
    "The information does not mention about $\\alpha$, we set it as 5% as default\r\n",
    "\r\n",
    "$\\alpha = 0.05 $\r\n",
    "\r\n",
    "If the mean circumferences of 64 animals at Indian equals 64 inches, we conclude that they are buffaloes and vice versa\r\n",
    "\r\n",
    "$$H_o: \\mu = 50  inches$$ \r\n",
    "$$H_1: \\mu ≠ 50  inches$$\r\n"
   ],
   "metadata": {}
  },
  {
   "cell_type": "markdown",
   "source": [
    "Step 2: Compute test statistic $Z_{score}$ and critical value $Z_{crit}$\r\n",
    "\r\n",
    "Since this is a 2 tailed test, we will have 2 critical values ($Z_{crit1}$ and $Z_{crit2}$)\r\n",
    "\r\n",
    "$$Z_{score} = \\frac{\\bar{X} - \\mu}{\\frac{\\sigma}{\\sqrt{n}}}$$"
   ],
   "metadata": {}
  },
  {
   "cell_type": "code",
   "execution_count": 36,
   "source": [
    "X_bar = 64\r\n",
    "mu = 50\r\n",
    "sigma = 5\r\n",
    "n = 64\r\n",
    "alpha = 0.05\r\n",
    "\r\n",
    "# Compute tes statistic Z_score\r\n",
    "import math\r\n",
    "Z_score = (X_bar-mu)/(sigma/math.sqrt(n))\r\n",
    "print(\"Tes statistic Z_score = \", Z_score)\r\n",
    "\r\n",
    "# Compute critical value\r\n",
    "from scipy.stats import norm\r\n",
    "Z_crit1 = norm.ppf(alpha/2)\r\n",
    "print(\"Critical value Z_crit1 = \",Z_crit1)\r\n",
    "\r\n",
    "Z_crit2 = norm.ppf(1-alpha/2)\r\n",
    "print(\"Critical value Z_crit2 = \",Z_crit2)\r\n",
    "\r\n"
   ],
   "outputs": [
    {
     "output_type": "stream",
     "name": "stdout",
     "text": [
      "Tes statistic Z_score =  22.4\n",
      "Critical value Z_crit1 =  -1.9599639845400545\n",
      "Critical value Z_crit2 =  1.959963984540054\n"
     ]
    }
   ],
   "metadata": {}
  },
  {
   "cell_type": "markdown",
   "source": [
    "Step 3: Decision making and conclusion\r\n",
    "\r\n",
    "If $Z_{score} \\in [Z_{crit1}:Z_{crit2}]$, we do not reject $H_o$\r\n",
    "\r\n",
    "If $Z_{score} > Z_{crit2} $ or $Z_{score} < Z_{crit1} $, we reject $H_o$\r\n",
    "\r\n",
    "Since our $Z_{score} > H_o$ $(22.4 > 1.96)$, we reject $H_o$\r\n",
    "\r\n",
    "Conclusion: The animal at Indian reservation are not buffaloes"
   ],
   "metadata": {}
  },
  {
   "cell_type": "markdown",
   "source": [
    "We can also compute p-Value to test our data\r\n"
   ],
   "metadata": {}
  },
  {
   "cell_type": "code",
   "execution_count": 42,
   "source": [
    "X_bar = 64\r\n",
    "mu = 50\r\n",
    "sigma = 5\r\n",
    "n = 64\r\n",
    "alpha = 0.05\r\n",
    "\r\n",
    "# Compute tes statistic Z_score\r\n",
    "import math\r\n",
    "Z_score = (X_bar-mu)/(sigma/math.sqrt(n))\r\n"
   ],
   "outputs": [],
   "metadata": {}
  },
  {
   "cell_type": "markdown",
   "source": [
    "If the test is left tailed or right tailed test, we compare p-value with $\\alpha$\r\n",
    "\r\n",
    "If the test is two-tailed test, we compare p-value with $\\alpha$/2\r\n",
    "\r\n",
    "p-value = 1 - P(Z < $Z_{score}$) when $Z_{score} > 0$\r\n",
    "\r\n",
    "p-value = P(Z < $Z_{score}$) when $Z_{score} < 0$\r\n",
    "\r\n"
   ],
   "metadata": {}
  },
  {
   "cell_type": "code",
   "execution_count": 58,
   "source": [
    "# Since this is a two-tailed test, we compute p-value = P(Z < Z_score)\r\n",
    "\r\n",
    "# Z (standard normal) distribution has mean = 0 and standard deviation = 1 \r\n",
    "\r\n",
    "p_Value = norm(loc = 0 , scale = 1).cdf(Z_score)\r\n",
    "print(\"p_value = \", p_Value)\r\n"
   ],
   "outputs": [
    {
     "output_type": "stream",
     "name": "stdout",
     "text": [
      "p_value =  1.0\n"
     ]
    }
   ],
   "metadata": {}
  },
  {
   "cell_type": "markdown",
   "source": [
    "\r\n",
    "We compare p-Value with $\\alpha$ when the test is 1 tailed test (right or left tailed)\r\n",
    "\r\n",
    "We compare p-Value with $\\frac{\\alpha}{2}$ when the test is 2 tailed test \r\n",
    "\r\n",
    "When p-Value $<$ $\\alpha$ or $\\frac{\\alpha}{2}$, we reject $H_o$"
   ],
   "metadata": {}
  },
  {
   "cell_type": "markdown",
   "source": [
    "Our p_value = 0.0 (nearly 0 not exact 0), we reject $H_o$\r\n",
    "\r\n",
    "Conclusion: The animal at Indian reservation are not buffaloes"
   ],
   "metadata": {}
  },
  {
   "cell_type": "markdown",
   "source": [
    "Another test to compare population mean with a known value is t-test\r\n",
    "\r\n",
    "We ca use t-test if:\r\n",
    "\r\n",
    "+ The population standard deviation ($\\sigma$) is UNKNOWN or (sample standard deviation sd is known)\r\n",
    "\r\n",
    "+ The sample size (n) is smaller than 30\r\n",
    "\r\n",
    "+ Data is independent\r\n",
    "\r\n",
    "+ Data is collected randomly\r\n",
    "\r\n",
    "+ The data is approximately normally distributed"
   ],
   "metadata": {}
  },
  {
   "cell_type": "markdown",
   "source": [
    "Exercise 2: To assess the accuracy of a laboratory scale, a standard weight that is known to weigh 1 gram is repeatedly weighed 4 times. The resulting measurements (in grams) are: 0.95, 1.02, 1.01, 0.98. Assume that the weighings by the scale when the true weight is 1 gram are normally distributed with mean µ. Do these data give evidence at 5% significance level that the scale is not accurate? Answer this question by performing an appropriate test of hypothesis."
   ],
   "metadata": {}
  },
  {
   "cell_type": "markdown",
   "source": [
    "Step 1: State the two hypothesises\r\n",
    "\r\n",
    "Sample size n = 4\r\n",
    "\r\n",
    "$\\mu$ = 1 gram\r\n",
    "\r\n",
    "$\\alpha$ = 5%\r\n",
    "\r\n",
    "Since the sample size is smaller than 30 and the population standard deviation $\\sigma$ is not provided\r\n",
    "\r\n",
    "We use t-test to test the data"
   ],
   "metadata": {}
  },
  {
   "cell_type": "markdown",
   "source": [
    "$$H_o: \\mu = 1$$\r\n",
    "$$H_o: \\mu != 1$$"
   ],
   "metadata": {}
  },
  {
   "cell_type": "code",
   "execution_count": 59,
   "source": [
    "# Create a list containing the sample's results\r\n",
    "X = [0.95, 1.02, 1.01, 0.98]\r\n",
    "\r\n",
    "# Compute sample average X_bar and sample standard deviation sd\r\n",
    "import statistics\r\n",
    "\r\n",
    "X_bar = statistics.mean(X)\r\n",
    "print(\"Sample average X_bar =\", X_bar)\r\n",
    "\r\n",
    "sd = statistics.stdev(X)\r\n",
    "print(\"Sample standard deviation sd =\",sd)"
   ],
   "outputs": [
    {
     "output_type": "stream",
     "name": "stdout",
     "text": [
      "Sample average X_bar = 0.99\n",
      "Sample standard deviation sd = 0.03162277660168382\n"
     ]
    }
   ],
   "metadata": {}
  },
  {
   "cell_type": "code",
   "execution_count": 60,
   "source": [
    "# Sample size n = 4\r\n",
    "n = 4\r\n",
    "\r\n",
    "# Degrees of freedom df = n - 1\r\n",
    "df = n - 1\r\n",
    "\r\n",
    "# Significance level alpha = 5%\r\n",
    "alpha = 0.05\r\n",
    "\r\n",
    "# Population mean = 1\r\n",
    "mean = 1"
   ],
   "outputs": [],
   "metadata": {}
  },
  {
   "cell_type": "markdown",
   "source": [
    "Step 2: Compute test statistic $t_{score}$ and critical value $t_{crit}$\r\n",
    "\r\n",
    "Since this is a 2 tailed test, we will have 2 critical values ($t_{crit1}$ and $t_{crit2}$)\r\n",
    "\r\n",
    "$$t_{score} = \\frac{\\bar{X} - \\mu}{\\frac{sd}{\\sqrt{n}}}$$"
   ],
   "metadata": {}
  },
  {
   "cell_type": "code",
   "execution_count": 61,
   "source": [
    "import math\r\n",
    "# Compute test statistic t_score\r\n",
    "t_score = (X_bar - mean)/(sd/math.sqrt(n))\r\n",
    "print(\"Test statistic t_score =\",t_score)\r\n",
    "\r\n",
    "# Compute the two critical values t_crit1 and t_crit2\r\n",
    "from scipy.stats import t\r\n",
    "\r\n",
    "t_crit1 = t.ppf(alpha/2, df)\r\n",
    "print(\"t_crit1 =\",t_crit1)\r\n",
    "\r\n",
    "t_crit2 = t.ppf(1 - alpha/2, df)\r\n",
    "print(\"t_crit2 =\",t_crit2)"
   ],
   "outputs": [
    {
     "output_type": "stream",
     "name": "stdout",
     "text": [
      "Test statistic t_score = -0.6324555320336759\n",
      "t_crit1 = -3.1824463052842638\n",
      "t_crit2 = 3.182446305284263\n"
     ]
    }
   ],
   "metadata": {}
  },
  {
   "cell_type": "markdown",
   "source": [
    "Step 3: Decision making and conclusion\r\n",
    "\r\n",
    "Since $t_{score}$ $\\in$ [$t_{crit1}$ : $t_{crit1}$] \r\n",
    "\r\n",
    "We do not reject $H_o$\r\n",
    "\r\n",
    "Conclusion: The scale is accurate "
   ],
   "metadata": {}
  },
  {
   "cell_type": "markdown",
   "source": [
    "Now, we test data by using p-value"
   ],
   "metadata": {}
  },
  {
   "cell_type": "code",
   "execution_count": 62,
   "source": [
    "X = [0.95, 1.02, 1.01, 0.98]\r\n",
    "mean = 1\r\n",
    "n = 4\r\n",
    "alpha = 0.05\r\n",
    "\r\n",
    "# Compute sample average X_bar and sample standard deviation sd\r\n",
    "import statistics\r\n",
    "\r\n",
    "X_bar = statistics.mean(X)\r\n",
    "print(\"Sample average X_bar =\", X_bar)\r\n",
    "\r\n",
    "sd = statistics.stdev(X)\r\n",
    "print(\"Sample standard deviation sd =\",sd)\r\n",
    "\r\n",
    "# Compute tes statistic Z_score\r\n",
    "import math\r\n",
    "t_score = (X_bar-mean)/(sd/math.sqrt(n))\r\n",
    "print(\"Test statistic t_score =\",t_score)\r\n"
   ],
   "outputs": [
    {
     "output_type": "stream",
     "name": "stdout",
     "text": [
      "Sample average X_bar = 0.99\n",
      "Sample standard deviation sd = 0.03162277660168382\n",
      "Test statistic t_score = -0.6324555320336759\n"
     ]
    }
   ],
   "metadata": {}
  },
  {
   "cell_type": "markdown",
   "source": [
    "If the test is left tailed or right tailed test, we compare p-value with $\\alpha$\r\n",
    "\r\n",
    "If the test is two-tailed test, we compare p-value with $\\alpha$/2\r\n",
    "\r\n",
    "p-value = 1 - P(t < $t_{score}$) when $t_{score} > 0$\r\n",
    "\r\n",
    "p-value = P(t < $t_{score}$) when $t_{score} < 0$\r\n",
    "\r\n"
   ],
   "metadata": {}
  },
  {
   "cell_type": "code",
   "execution_count": 71,
   "source": [
    "# Since this is a two-tailed test and t_score < 0,\r\n",
    "# we compute p-value = P(t < t_score) and compare it with alpha/2\r\n",
    "\r\n",
    "from scipy.stats import t\r\n",
    "\r\n",
    "# Compute p-value\r\n",
    "p_Value = t.cdf(t_score,df)\r\n",
    "print(\"p_value = \",p_Value)\r\n"
   ],
   "outputs": [
    {
     "output_type": "stream",
     "name": "stdout",
     "text": [
      "p_value =  0.2860016903503205\n"
     ]
    }
   ],
   "metadata": {}
  }
 ],
 "metadata": {
  "orig_nbformat": 4,
  "language_info": {
   "name": "python",
   "version": "3.9.1",
   "mimetype": "text/x-python",
   "codemirror_mode": {
    "name": "ipython",
    "version": 3
   },
   "pygments_lexer": "ipython3",
   "nbconvert_exporter": "python",
   "file_extension": ".py"
  },
  "kernelspec": {
   "name": "python3",
   "display_name": "Python 3.9.1 64-bit"
  },
  "interpreter": {
   "hash": "b04f92276c7f1f1d3a26077c5c09795688850f60751ffad3d76423a408f11422"
  }
 },
 "nbformat": 4,
 "nbformat_minor": 2
}