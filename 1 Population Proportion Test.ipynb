{
 "cells": [
  {
   "cell_type": "markdown",
   "source": [
    "Hypothesis Test for a Population Proportion"
   ],
   "metadata": {}
  },
  {
   "cell_type": "markdown",
   "source": [
    "$$Z_{score} = \\frac{\\hat{p} - p}{\\sqrt{\\frac{p*q}{n}}}$$\r\n",
    "\r\n",
    "where:\r\n",
    "\r\n",
    "+ p is the population proportion\r\n",
    "\r\n",
    "+ q = 1 - p\r\n",
    "\r\n",
    "+ $\\hat{p}$ is the sample proportion\r\n",
    "\r\n",
    "+ n is the sample size"
   ],
   "metadata": {}
  },
  {
   "cell_type": "markdown",
   "source": [
    "Exercise 1: For a certain genetic cross it is predicted that one quarter of the offspring will be deficient in a particular enzyme.\r\n",
    "\r\n",
    "Of 48 offspring examined, 8 exhibited this deficiency. Test whether these data are consistent with the theoretical proportion.\r\n"
   ],
   "metadata": {}
  },
  {
   "cell_type": "markdown",
   "source": [
    "$$H_o: p = 1/4$$\r\n"
   ],
   "metadata": {}
  },
  {
   "cell_type": "markdown",
   "source": [
    "$$H_1: p != 1/4$$"
   ],
   "metadata": {}
  },
  {
   "cell_type": "code",
   "execution_count": 19,
   "source": [
    "n = 48\r\n",
    "p = 1/4\r\n",
    "q = 1 - p\r\n",
    "p_hat = 8/48\r\n",
    "\r\n",
    "# Compute test statistic Z_score\r\n",
    "import math\r\n",
    "Z_score = (p_hat - p)/math.sqrt((p*q)/n)\r\n",
    "print(\"The test statistic Z_score =\", Z_score)\r\n",
    "\r\n",
    "# Compute p_value\r\n",
    "from scipy.stats import norm\r\n",
    "# We use standard normal distribution (mu =0 and sigma = 1), thus loc = 0 and scale = 1\r\n",
    "p_value = norm(loc = 0, scale = 1).cdf(Z_score)\r\n",
    "print(\"p_value =\", p_value)\r\n"
   ],
   "outputs": [
    {
     "output_type": "stream",
     "name": "stdout",
     "text": [
      "The test statistic Z_score = -1.3333333333333335\n",
      "p_value = 0.09121121972586782\n"
     ]
    }
   ],
   "metadata": {}
  },
  {
   "cell_type": "markdown",
   "source": [
    "Since this test is a 2-tail test,\r\n",
    "\r\n",
    "We compare p_value vs $\\alpha$/2\r\n",
    "\r\n",
    "And our p_value > $\\alpha$/2 (0.091 > 0.05/2)\r\n",
    "\r\n",
    "We do reject $H_o$\r\n",
    "\r\n",
    "Conclusion: The data are consistent with the null hypothesis which is the proportion of the enzyme deficiency is 25%. \r\n"
   ],
   "metadata": {}
  },
  {
   "cell_type": "markdown",
   "source": [
    "Exercise 2: A cell culture method usually has a failure rate of 20% (caused by aseptic technique failing etc.). Using a changed method, six failures occurred in 50 test cultures. Does this imply that the change has reduced the failure rate?"
   ],
   "metadata": {}
  },
  {
   "cell_type": "markdown",
   "source": [
    "$$H_o: p = 0.2$$\r\n"
   ],
   "metadata": {}
  },
  {
   "cell_type": "code",
   "execution_count": 20,
   "source": [
    "n = 50\r\n",
    "p = 0.2\r\n",
    "q = 1 - p\r\n",
    "p_hat = 6/50\r\n",
    "\r\n",
    "# Compute test statistic Z_score\r\n",
    "import math\r\n",
    "Z_score = (p_hat - p)/math.sqrt((p*q)/n)\r\n",
    "print(\"The test statistic Z_score =\", Z_score)\r\n",
    "\r\n",
    "# Compute p_value\r\n",
    "from scipy.stats import norm\r\n",
    "# We use standard normal distribution (mu =0 and sigma = 1), thus loc = 0 and scale = 1\r\n",
    "\"\"\"If Z_score > 0, p_value = 1 - norm(loc = 0, scale = 1).cdf(Z_score)\r\n",
    "   If Z_score < 0, p_value = norm(loc = 0, scale = 1).cdf(Z_score)\"\"\"\r\n",
    "\r\n",
    "if Z_score > 0:\r\n",
    "    p_value = 1 - norm(loc = 0, scale = 1).cdf(Z_score)\r\n",
    "    print(\"p_value =\", p_value)\r\n",
    "else:\r\n",
    "    p_value = norm(loc = 0, scale = 1).cdf(Z_score)\r\n",
    "    print(\"p_value =\", p_value)\r\n"
   ],
   "outputs": [
    {
     "output_type": "stream",
     "name": "stdout",
     "text": [
      "The test statistic Z_score = -1.4142135623730951\n",
      "p_value = 0.07864960352514251\n"
     ]
    }
   ],
   "metadata": {}
  },
  {
   "cell_type": "markdown",
   "source": [
    "Since p_value > alpha (0.079 > 0.05),\r\n",
    "\r\n",
    "We do not reject $H_o$\r\n",
    "\r\n",
    "Conclusion: The changed method still has a failure rate of 20%"
   ],
   "metadata": {}
  }
 ],
 "metadata": {
  "orig_nbformat": 4,
  "language_info": {
   "name": "python",
   "version": "3.9.1",
   "mimetype": "text/x-python",
   "codemirror_mode": {
    "name": "ipython",
    "version": 3
   },
   "pygments_lexer": "ipython3",
   "nbconvert_exporter": "python",
   "file_extension": ".py"
  },
  "kernelspec": {
   "name": "python3",
   "display_name": "Python 3.9.1 64-bit"
  },
  "interpreter": {
   "hash": "b04f92276c7f1f1d3a26077c5c09795688850f60751ffad3d76423a408f11422"
  }
 },
 "nbformat": 4,
 "nbformat_minor": 2
}