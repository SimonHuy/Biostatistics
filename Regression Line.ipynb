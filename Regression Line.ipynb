{
 "cells": [
  {
   "cell_type": "markdown",
   "source": [
    "LINEAR REGRESSION LINE"
   ],
   "metadata": {}
  },
  {
   "cell_type": "markdown",
   "source": [
    "Linear regression attempts to model the relationship between two variables by fitting a linear equation to observed data. The result is a linear regression equation that can be used to make predictions about data. \r\n",
    "\r\n",
    "You’re probably familiar with plotting line graphs with one X axis and one Y axis. The X variable is sometimes called the independent variable and the Y variable is called the dependent variable. Simple linear regression plots one independent variable X against one dependent variable Y. "
   ],
   "metadata": {}
  },
  {
   "cell_type": "markdown",
   "source": [
    "$$ Y = b_1X + b_0$$\r\n",
    "\r\n",
    "Where:\r\n",
    "\r\n",
    "+ X is the independent variable\r\n",
    "\r\n",
    "+ Y is the dependent variable\r\n",
    "\r\n",
    "+ $b_1$ is the slope\r\n",
    "\r\n",
    "+ $b_0$ is the intercept"
   ],
   "metadata": {}
  },
  {
   "cell_type": "markdown",
   "source": [
    "Correlation coefficients are used to measure how strong a relationship is between two variables. Pearson’s correlation (R) is a correlation coefficient commonly used in linear regression. \r\n",
    "\r\n",
    "Correlation coefficient formulas are used to find how strong a relationship is between data. The formulas return a value between -1 and 1, where:\r\n",
    "\r\n",
    "+ 1 indicates a strong positive relationship.\r\n",
    "+ -1 indicates a strong negative relationship.\r\n",
    "+ A result of zero indicates no relationship at all"
   ],
   "metadata": {}
  },
  {
   "cell_type": "markdown",
   "source": [
    "$$R = \\frac{SS_{xy}}{SS_x\\ *\\ SS_y}$$"
   ],
   "metadata": {}
  },
  {
   "cell_type": "code",
   "execution_count": 89,
   "source": [
    "from IPython.display import Image\r\n",
    "Image(filename='correlation.png')"
   ],
   "outputs": [
    {
     "output_type": "execute_result",
     "data": {
      "image/png": "[encoded data removed]",
      "text/plain": [
       "<IPython.core.display.Image object>"
      ]
     },
     "metadata": {},
     "execution_count": 89
    }
   ],
   "metadata": {}
  },
  {
   "cell_type": "markdown",
   "source": [
    "Exercise 1: The table below gives the estimated world population (in billions) for various years. Using the linear regression equation predict the world population in the year 2015."
   ],
   "metadata": {}
  },
  {
   "cell_type": "markdown",
   "source": [
    "|Year|Population|\r\n",
    "|--|--|\r\n",
    "|1980|4400|\r\n",
    "|1990|5100|\r\n",
    "|1997|5852|\r\n",
    "|2000|6080|\r\n",
    "|2005|6450|\r\n",
    "|2011|7000|"
   ],
   "metadata": {}
  },
  {
   "cell_type": "code",
   "execution_count": 90,
   "source": [
    "import numpy as np\r\n",
    "import matplotlib.pyplot as plt\r\n",
    "import math\r\n",
    "\r\n",
    "X = np.array([1980, 1990, 1997, 2000, 2005, 2011]) \r\n",
    "Y = np.array([4400, 5100, 5852, 6080, 6450, 7000])\r\n",
    "\r\n",
    "# Function to compute coefficient b1 and b0\r\n",
    "def estimate_coef(x, y):\r\n",
    "    # number of observations/points\r\n",
    "    n = np.size(x)\r\n",
    " \r\n",
    "    # mean of x and y vector\r\n",
    "    m_x = np.mean(x)\r\n",
    "    m_y = np.mean(y)\r\n",
    " \r\n",
    "    # calculating cross-deviation and deviation about x\r\n",
    "    SS_xy = np.sum(y*x) - n*m_y*m_x\r\n",
    "    SS_xx = np.sum(x*x) - n*m_x*m_x\r\n",
    "    SS_yy = np.sum(y*y) - n*m_y*m_y\r\n",
    " \r\n",
    "    # calculating regression coefficients\r\n",
    "    b_1 = SS_xy / SS_xx\r\n",
    "    b_0 = m_y - b_1*m_x\r\n",
    "    R = SS_xy/math.sqrt(SS_xx * SS_yy)\r\n",
    "    return (b_0, b_1,R)    "
   ],
   "outputs": [],
   "metadata": {}
  },
  {
   "cell_type": "code",
   "execution_count": 91,
   "source": [
    "# Function to plot X and Y\r\n",
    "def plot_regression_line(x, y, b):\r\n",
    "    # plotting the actual points as scatter plot\r\n",
    "    plt.scatter(x, y, color = \"red\", marker = \"o\", s = 30)\r\n",
    " \r\n",
    "    # predicted response vector\r\n",
    "    y_pred = b[0] + b[1]*x\r\n",
    " \r\n",
    "    # plotting the regression line\r\n",
    "    plt.plot(x, y_pred, color = \"g\")\r\n",
    " \r\n",
    "    # putting labels\r\n",
    "    plt.xlabel('Year')\r\n",
    "    plt.ylabel('Population')\r\n",
    "   "
   ],
   "outputs": [],
   "metadata": {}
  },
  {
   "cell_type": "code",
   "execution_count": 92,
   "source": [
    "# estimating coefficients\r\n",
    "b = estimate_coef(X, Y)\r\n",
    "print(\"Estimated coefficients:\\nb_0 = {b0}  \\nb_1 = {b1} \".format(b0 = b[0], b1 = b[1]))\r\n",
    "print(\"R = {R}\".format(R = b[2])) \r\n",
    "# plotting regression line\r\n",
    "plot_regression_line(X, Y, b)"
   ],
   "outputs": [
    {
     "output_type": "stream",
     "name": "stdout",
     "text": [
      "Estimated coefficients:\n",
      "b_0 = -163766.1334801439  \n",
      "b_1 = 84.91018950854239 \n",
      "R = 0.9980205028059005\n"
     ]
    },
    {
     "output_type": "display_data",
     "data": {
      "image/png": "[encoded data removed]",
      "text/plain": [
       "<Figure size 432x288 with 1 Axes>"
      ]
     },
     "metadata": {
      "needs_background": "light"
     }
    }
   ],
   "metadata": {}
  },
  {
   "cell_type": "code",
   "execution_count": 93,
   "source": [
    "# Compute the world population in the year 2015\r\n",
    "Population_2015 = b[1]*2015 + b[0]\r\n",
    "print(Population_2015)"
   ],
   "outputs": [
    {
     "output_type": "stream",
     "name": "stdout",
     "text": [
      "7327.898379569\n"
     ]
    }
   ],
   "metadata": {}
  }
 ],
 "metadata": {
  "orig_nbformat": 4,
  "language_info": {
   "name": "python",
   "version": "3.9.1",
   "mimetype": "text/x-python",
   "codemirror_mode": {
    "name": "ipython",
    "version": 3
   },
   "pygments_lexer": "ipython3",
   "nbconvert_exporter": "python",
   "file_extension": ".py"
  },
  "kernelspec": {
   "name": "python3",
   "display_name": "Python 3.9.1 64-bit"
  },
  "interpreter": {
   "hash": "b04f92276c7f1f1d3a26077c5c09795688850f60751ffad3d76423a408f11422"
  }
 },
 "nbformat": 4,
 "nbformat_minor": 2
}