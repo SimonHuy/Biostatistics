{
 "cells": [
  {
   "cell_type": "markdown",
   "source": [
    "BINOMIAL DISTRIBUTION"
   ],
   "metadata": {}
  },
  {
   "cell_type": "markdown",
   "source": [
    "A binomial distribution can be thought of as simply the probability of a SUCCESS (p) or FAILURE (q) outcome in an experiment or survey that is repeated multiple times. The binomial is a type of distribution that has two possible outcomes (the prefix “bi” means two, or twice). For example, a coin toss has only two possible outcomes: heads or tails and taking a test could have two possible outcomes: pass or fail (https://www.statisticshowto.com/probability-and-statistics/binomial-theorem/binomial-distribution-formula/https://www.statisticshowto.com/probability-and-statistics/binomial-theorem/binomial-distribution-formula/)."
   ],
   "metadata": {}
  },
  {
   "cell_type": "markdown",
   "source": [
    "$$P(X) = \\frac{n!}{X!*(n-X)!}*p^X*q^{n-X}$$\r\n",
    "where:\r\n",
    "\r\n",
    "+ p: the probability of success\r\n",
    "+ q: the probability of failure\r\n",
    "+ n: number of trials\r\n",
    "+ X: number of successes or failures (X = 0, 1, 2, ..., n)"
   ],
   "metadata": {}
  },
  {
   "cell_type": "markdown",
   "source": [
    "Exercise 1: Hospital records show that of patients suffering from a certain disease, %75% die of it. What is the probability that of 6 randomly selected patients, 4 will recover?"
   ],
   "metadata": {}
  },
  {
   "cell_type": "code",
   "execution_count": 25,
   "source": [
    "from scipy.stats import binom\r\n",
    "\r\n",
    "# number of trials n =6\r\n",
    "# q = 0.75 => p = 0.25\r\n",
    "# X = 4 number of patients who will recover\r\n",
    "\r\n",
    "#calculate binomial probability\r\n",
    "binom.pmf(k=4, n=6, p=0.25)"
   ],
   "outputs": [
    {
     "output_type": "execute_result",
     "data": {
      "text/plain": [
       "0.03295898437499997"
      ]
     },
     "metadata": {},
     "execution_count": 25
    }
   ],
   "metadata": {}
  },
  {
   "cell_type": "markdown",
   "source": [
    "Exercise 2: A (blindfolded) marksman finds that on the average he hits the target 4 times out of 5. If he fires 4 shots, what is the probability of\r\n",
    "\r\n",
    "(a) more than 2 hits?\r\n",
    "\r\n",
    "(b) at least 3 misses?\r\n"
   ],
   "metadata": {}
  },
  {
   "cell_type": "code",
   "execution_count": 26,
   "source": [
    "from scipy.stats import binom\r\n",
    "\r\n",
    "# number of trials n = 4\r\n",
    "# p = 4/5 = 0.8 => q= 0.2\r\n",
    "\r\n",
    "# a/ More than 2 hits\r\n",
    "# P(X > 2) = 1 - P(X <= 2)\r\n",
    "\r\n",
    "#calculate binomial probability\r\n",
    "1-binom.cdf(k=2, n=4, p=0.8)"
   ],
   "outputs": [
    {
     "output_type": "execute_result",
     "data": {
      "text/plain": [
       "0.8192"
      ]
     },
     "metadata": {},
     "execution_count": 26
    }
   ],
   "metadata": {}
  },
  {
   "cell_type": "code",
   "execution_count": 27,
   "source": [
    "from scipy.stats import binom\r\n",
    "\r\n",
    "# number of trials n = 4\r\n",
    "# p = 4/5 = 0.8 => q= 0.2\r\n",
    "\r\n",
    "# b/ At least 3 misses\r\n",
    "# P(Y >= 3) = 1 - P(Y<=2) \r\n",
    "\r\n",
    "#calculate binomial probability\r\n",
    "1-binom.cdf(k=2, n=4, p=0.2)"
   ],
   "outputs": [
    {
     "output_type": "execute_result",
     "data": {
      "text/plain": [
       "0.027200000000000002"
      ]
     },
     "metadata": {},
     "execution_count": 27
    }
   ],
   "metadata": {}
  },
  {
   "cell_type": "markdown",
   "source": [
    "Normal Approximation to the Binomial"
   ],
   "metadata": {}
  },
  {
   "cell_type": "markdown",
   "source": [
    "Exercise 3: Sixty two percent of 12th graders attend school in a particular urban school district. If a sample of 500 12th grade children are selected, find the probability that at least 290 are actually enrolled in school."
   ],
   "metadata": {}
  },
  {
   "cell_type": "markdown",
   "source": [
    "p = 0.62\r\n",
    "q = 0.38\r\n",
    "n = 500\r\n",
    "\r\n",
    "Since n*p = 310 > 5 and n*q = 190 > 5,\r\n",
    "We can use the normal approximation to the binomial\r\n",
    "\r\n",
    "µ = n*p =310\r\n",
    "\r\n",
    "σ = sqrt(n*p*q) = 10.854\r\n",
    "\r\n",
    "The probability that at least 290 are actually enrolled in school:\r\n",
    "\r\n",
    "P(X>=290) = 1 -P(X <= 289.5)\r\n"
   ],
   "metadata": {}
  },
  {
   "cell_type": "code",
   "execution_count": 28,
   "source": [
    "from scipy.stats import norm\r\n",
    "n = 500\r\n",
    "p = 0.62\r\n",
    "q = 0.38\r\n",
    "sd = (n*p*q)**0.5\r\n",
    "mean = n*p\r\n",
    "X = 289.5\r\n",
    "# P(X >= 290) = 1- - P(X <= 289.5)\r\n",
    "P_X_AtLeast290 = 1 - norm(loc = mean , scale = sd).cdf(X)\r\n",
    "\r\n",
    "print(P_X_AtLeast290)"
   ],
   "outputs": [
    {
     "output_type": "stream",
     "name": "stdout",
     "text": [
      "0.9705392966006449\n"
     ]
    }
   ],
   "metadata": {}
  }
 ],
 "metadata": {
  "orig_nbformat": 4,
  "language_info": {
   "name": "python",
   "version": "3.9.1",
   "mimetype": "text/x-python",
   "codemirror_mode": {
    "name": "ipython",
    "version": 3
   },
   "pygments_lexer": "ipython3",
   "nbconvert_exporter": "python",
   "file_extension": ".py"
  },
  "kernelspec": {
   "name": "python3",
   "display_name": "Python 3.9.1 64-bit"
  },
  "interpreter": {
   "hash": "b04f92276c7f1f1d3a26077c5c09795688850f60751ffad3d76423a408f11422"
  }
 },
 "nbformat": 4,
 "nbformat_minor": 2
}