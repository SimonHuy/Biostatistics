{
 "cells": [
  {
   "cell_type": "markdown",
   "source": [
    "Analysis of Variance (ANOVA) is a statistical method for determining the existence of differences among several population means. \r\n"
   ],
   "metadata": {}
  },
  {
   "cell_type": "markdown",
   "source": [
    "The Hypothesis Test of Analysis of Variance: Assumptions\r\n",
    "\r\n",
    "+  We assume independent random sampling from each of the r populations\r\n",
    "\r\n",
    "+ We assume that the r populations under study: \r\n",
    "\r\n",
    "    + are normally distributed, \r\n",
    "\r\n",
    "    + with means $\\mu_i$ that may or may not be equal, \r\n",
    "\r\n",
    "    + but with equal variances\r\n",
    "\r\n"
   ],
   "metadata": {}
  },
  {
   "cell_type": "markdown",
   "source": [
    "$$H_0: \\mu_{1} = \\mu_{2} = \\mu_{3} = ... = \\mu_r$$\r\n",
    "$$H_1: Not\\ all\\ \\mu_i\\ (i = 1, 2, ..., r)\\ are\\ equal$$"
   ],
   "metadata": {}
  },
  {
   "cell_type": "markdown",
   "source": [
    "Exercise 1: The presence of harmful insects in farm fields is detected by erecting boards covered with a sticky material and then examining the insects trapped on the board. To investigate which colours are most attractive to cereal leaf beetles researchers placed six boards of each of four  colours in a field of oats in July. The table below gives the numbers of cereal leaf beetles trapped. \r\n",
    "\r\n",
    "|Color|Insects trapped|\r\n",
    "|--|--|\r\n",
    "|Lemon yellow|45 59 48 46 38 47|\r\n",
    "|White|21  12  14  17  13  17 |\r\n",
    "|Green|37  32  15  25  39  41|\r\n",
    "|Blue|16  11  20  21  14   7 |\r\n",
    "\r\n",
    "Does this data suggest that colour influences the number of beetles?   "
   ],
   "metadata": {}
  },
  {
   "cell_type": "markdown",
   "source": [
    "$$H_0: Mean\\ abundance\\ is\\ the\\ same\\ for\\ all\\ colours\\ of\\ boards $$\r\n"
   ],
   "metadata": {}
  },
  {
   "cell_type": "markdown",
   "source": [
    "$$H_1: At\\ least\\ one\\ pair\\ of\\ means\\ differ $$"
   ],
   "metadata": {}
  },
  {
   "cell_type": "code",
   "execution_count": null,
   "source": [
    "# Create lists containing the number of insects trapped in each treatment\r\n",
    "Yellow = [45,  59,  48,  46,  38,  47 ]\r\n",
    "White = [21,  12,  14,  17,  13,  17 ]\r\n",
    "Green = [37,  32,  15,  25,  39,  41 ]\r\n",
    "Blue = [16,  11,  20,  21,  14,   7]\r\n",
    "Total = Yellow + White + Green + Blue\r\n"
   ],
   "outputs": [],
   "metadata": {}
  },
  {
   "cell_type": "code",
   "execution_count": 5,
   "source": [
    "# Compute average for each treatment and grand mean\r\n",
    "import statistics\r\n",
    "Yellow_bar = statistics.mean(Yellow)\r\n",
    "print(\"The average number of insects trapped in yellow board, Yellow_bar =\", Yellow_bar)\r\n",
    "\r\n",
    "White_bar = statistics.mean(White)\r\n",
    "print(\"The average number of insects trapped in white board, White_bar =\", White_bar)\r\n",
    "\r\n",
    "Green_bar = statistics.mean(Green)\r\n",
    "print(\"The average number of insects trapped in green board, Green_bar =\", Green_bar)\r\n",
    "\r\n",
    "Blue_bar = statistics.mean(Blue)\r\n",
    "print(\"The average number of insects trapped in blue board, Blue_bar =\", Blue_bar)\r\n",
    "\r\n",
    "Grand_Mean = statistics.mean(Total)\r\n",
    "print(\"Grand mean =\", Grand_Mean)"
   ],
   "outputs": [
    {
     "output_type": "stream",
     "name": "stdout",
     "text": [
      "The average number of insects trapped in yellow board, Yellow_bar = 47.166666666666664\n",
      "The average number of insects trapped in white board, White_bar = 15.666666666666666\n",
      "The average number of insects trapped in green board, Green_bar = 31.5\n",
      "The average number of insects trapped in blue board, Blue_bar = 14.833333333333334\n",
      "Grand mean = 27.291666666666668\n"
     ]
    }
   ],
   "metadata": {}
  },
  {
   "cell_type": "code",
   "execution_count": 21,
   "source": [
    "# Create a function to compute error deviation\r\n",
    "def ComputeError(Color):\r\n",
    "    List_Error = []\r\n",
    "    for i in Color:\r\n",
    "        ErrorDeviation = i - statistics.mean(Color)\r\n",
    "        List_Error.append(ErrorDeviation)\r\n",
    "    return List_Error\r\n",
    "\r\n",
    "print(\"List error deviation of Yellow treatment =\", ComputeError(Yellow))\r\n",
    "print(\"List error deviation of White treatment =\", ComputeError(White))\r\n",
    "print(\"List error deviation of Green treatment =\", ComputeError(Green))\r\n",
    "print(\"List error deviation of Blue treatment =\", ComputeError(Blue))\r\n"
   ],
   "outputs": [
    {
     "output_type": "stream",
     "name": "stdout",
     "text": [
      "List error deviation of Yellow treatment = [-2.1666666666666643, 11.833333333333336, 0.8333333333333357, -1.1666666666666643, -9.166666666666664, -0.1666666666666643]\n",
      "List error deviation of White treatment = [5.333333333333334, -3.666666666666666, -1.666666666666666, 1.333333333333334, -2.666666666666666, 1.333333333333334]\n",
      "List error deviation of Green treatment = [5.5, 0.5, -16.5, -6.5, 7.5, 9.5]\n",
      "List error deviation of Blue treatment = [1.166666666666666, -3.833333333333334, 5.166666666666666, 6.166666666666666, -0.8333333333333339, -7.833333333333334]\n"
     ]
    }
   ],
   "metadata": {}
  },
  {
   "cell_type": "code",
   "execution_count": 23,
   "source": [
    "Error_Total = ComputeError(Yellow) + ComputeError(White) + ComputeError(Green) + ComputeError(Blue)\r\n",
    "\r\n",
    "print(\"List error deviation of all treament=\", Error_Total)"
   ],
   "outputs": [
    {
     "output_type": "stream",
     "name": "stdout",
     "text": [
      "List error deviation of all treament= [-2.1666666666666643, 11.833333333333336, 0.8333333333333357, -1.1666666666666643, -9.166666666666664, -0.1666666666666643, 5.333333333333334, -3.666666666666666, -1.666666666666666, 1.333333333333334, -2.666666666666666, 1.333333333333334, 5.5, 0.5, -16.5, -6.5, 7.5, 9.5, 1.166666666666666, -3.833333333333334, 5.166666666666666, 6.166666666666666, -0.8333333333333339, -7.833333333333334]\n"
     ]
    }
   ],
   "metadata": {}
  },
  {
   "cell_type": "code",
   "execution_count": 26,
   "source": [
    "# Compute Sum of squares of error (SSE)\r\n",
    "Square_Error_List = []\r\n",
    "for i in Error_Total:\r\n",
    "    i = i**2\r\n",
    "    Square_Error_List.append(i)\r\n",
    "\r\n",
    "SSE = statistics.fsum(Square_Error_List)\r\n",
    "print(\"SSE =\",SSE)"
   ],
   "outputs": [
    {
     "output_type": "stream",
     "name": "stdout",
     "text": [
      "SSE = 920.5\n"
     ]
    }
   ],
   "metadata": {}
  },
  {
   "cell_type": "markdown",
   "source": [
    "$$MSE\\ (Mean\\ Square\\ Error) = \\frac{SSE}{n-r}$$\r\n",
    "where:\r\n",
    "+ r = number of treatments (or groups)\r\n",
    "+ n = total observations"
   ],
   "metadata": {}
  },
  {
   "cell_type": "code",
   "execution_count": 28,
   "source": [
    "# Total observation n = 24\r\n",
    "n = 24\r\n",
    "\r\n",
    "# Number of treatments r = 4\r\n",
    "r = 4\r\n",
    "\r\n",
    "MSE = SSE/(n-r)\r\n",
    "print(\"MSE =\",MSE)"
   ],
   "outputs": [
    {
     "output_type": "stream",
     "name": "stdout",
     "text": [
      "MSE = 46.025\n"
     ]
    }
   ],
   "metadata": {}
  },
  {
   "cell_type": "markdown",
   "source": [
    "$$SSTr = n_1*(\\bar{X_1} - \\bar{\\bar{X}})^2 + n_2*(\\bar{X_2} - \\bar{\\bar{X}})^2 + n_3*(\\bar{X_3} - \\bar{\\bar{X}})^2 + ... + n_i*(\\bar{X_i} - \\bar{\\bar{X}})^2$$\r\n",
    "where:\r\n",
    "+ $\\bar{\\bar{X}}$ = Grand mean"
   ],
   "metadata": {}
  },
  {
   "cell_type": "code",
   "execution_count": 33,
   "source": [
    "n_1 = len(Yellow)\r\n",
    "print(\"n_1 =\",n_1)\r\n",
    "\r\n",
    "n_2 = len(White)\r\n",
    "print(\"n_2 =\",n_2)\r\n",
    "\r\n",
    "n_3 = len(Green)\r\n",
    "print(\"n_3 =\",n_3)\r\n",
    "\r\n",
    "n_4 = len(Blue)\r\n",
    "print(\"n_4 =\",n_4)"
   ],
   "outputs": [
    {
     "output_type": "stream",
     "name": "stdout",
     "text": [
      "n_1 = 6\n",
      "n_2 = 6\n",
      "n_3 = 6\n",
      "n_4 = 6\n"
     ]
    }
   ],
   "metadata": {}
  },
  {
   "cell_type": "code",
   "execution_count": 35,
   "source": [
    "SSTr = n_1*(Yellow_bar - Grand_Mean)**2 + n_2*(White_bar - Grand_Mean)**2 + n_3*(Green_bar - Grand_Mean)**2 + n_4*(Blue_bar - Grand_Mean)**2\r\n",
    "print(\"SSTr =\", SSTr)"
   ],
   "outputs": [
    {
     "output_type": "stream",
     "name": "stdout",
     "text": [
      "SSTr = 4218.458333333332\n"
     ]
    }
   ],
   "metadata": {}
  },
  {
   "cell_type": "markdown",
   "source": [
    "$$MSTr\\ (Mean\\ Square\\ Treatment) = \\frac{SSTr}{r - 1} $$"
   ],
   "metadata": {}
  },
  {
   "cell_type": "code",
   "execution_count": 36,
   "source": [
    "MSTr = SSTr / (r -1)\r\n",
    "print(\"MSTr =\", MSTr)"
   ],
   "outputs": [
    {
     "output_type": "stream",
     "name": "stdout",
     "text": [
      "MSTr = 1406.1527777777774\n"
     ]
    }
   ],
   "metadata": {}
  },
  {
   "cell_type": "markdown",
   "source": [
    "$$F_{(r - 1, n - r)} = \\frac{MSTr}{MSE}$$"
   ],
   "metadata": {}
  },
  {
   "cell_type": "code",
   "execution_count": 39,
   "source": [
    "F_score = MSTr/MSE\r\n",
    "print(\"F_score =\", F_score)\r\n",
    "\r\n",
    "# Compute critical value\r\n",
    "\"\"\"Anova is a right tailed test\"\"\"\r\n",
    "alpha = 0.05\r\n",
    "\r\n",
    "from scipy.stats import f\r\n",
    "critical_value = f.ppf(1 - alpha, r - 1, n - r)\r\n",
    "print(\"Critical value =\", critical_value)"
   ],
   "outputs": [
    {
     "output_type": "stream",
     "name": "stdout",
     "text": [
      "F_score = 30.55193433520429\n",
      "Critical value = 3.09839121214078\n"
     ]
    }
   ],
   "metadata": {}
  },
  {
   "cell_type": "code",
   "execution_count": 40,
   "source": [
    "# Decision making\r\n",
    "if F_score < critical_value:\r\n",
    "    print(\"Do not reject Ho\")\r\n",
    "else:\r\n",
    "    print(\"Reject Ho\")"
   ],
   "outputs": [
    {
     "output_type": "stream",
     "name": "stdout",
     "text": [
      "Reject Ho\n"
     ]
    }
   ],
   "metadata": {}
  },
  {
   "cell_type": "markdown",
   "source": [
    "Conclusion: There is evidence of significant differences among the mean abundances"
   ],
   "metadata": {}
  }
 ],
 "metadata": {
  "orig_nbformat": 4,
  "language_info": {
   "name": "python",
   "version": "3.9.1",
   "mimetype": "text/x-python",
   "codemirror_mode": {
    "name": "ipython",
    "version": 3
   },
   "pygments_lexer": "ipython3",
   "nbconvert_exporter": "python",
   "file_extension": ".py"
  },
  "kernelspec": {
   "name": "python3",
   "display_name": "Python 3.9.1 64-bit"
  },
  "interpreter": {
   "hash": "b04f92276c7f1f1d3a26077c5c09795688850f60751ffad3d76423a408f11422"
  }
 },
 "nbformat": 4,
 "nbformat_minor": 2
}