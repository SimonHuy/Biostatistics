{
 "cells": [
  {
   "cell_type": "markdown",
   "source": [
    "Analysis of Variance (ANOVA) is a statistical method for determining the existence of differences among several population means. \r\n"
   ],
   "metadata": {}
  },
  {
   "cell_type": "markdown",
   "source": [
    "The Hypothesis Test of Analysis of Variance: Assumptions\r\n",
    "\r\n",
    "+  We assume independent random sampling from each of the r populations\r\n",
    "\r\n",
    "+ We assume that the r populations under study: \r\n",
    "\r\n",
    "    + are normally distributed, \r\n",
    "\r\n",
    "    + with means $\\mu_i$ that may or may not be equal, \r\n",
    "\r\n",
    "    + but with equal variances\r\n",
    "\r\n"
   ],
   "metadata": {}
  },
  {
   "cell_type": "markdown",
   "source": [
    "$$H_0: \\mu_{1} = \\mu_{2} = \\mu_{3} = ... = \\mu_r$$\r\n",
    "$$H_1: Not\\ all\\ \\mu_i\\ (i = 1, 2, ..., r)\\ are\\ equal$$"
   ],
   "metadata": {}
  },
  {
   "cell_type": "markdown",
   "source": [
    "Exercise 1: Below are data of the responses of a disease subjected to three different treatments. Test if the three treatments are significantly different or not. \r\n",
    "\r\n",
    "|Treatment 1|Treatment 2|Treatment 3|\r\n",
    "|--|--|--|\r\n",
    "|7|11|8|\r\n",
    "|12|17|6|\r\n",
    "|9|16|10|\r\n",
    "|11|13|9|\r\n",
    "|8|10|11|\r\n",
    "|9|15|7|\r\n",
    "|11|14|10|\r\n",
    "|10|18|-|\r\n",
    "|7|-|-|\r\n",
    "|8|-|-|"
   ],
   "metadata": {}
  },
  {
   "cell_type": "markdown",
   "source": [
    "Before conducting the ANOVA test, we have to test whether:\r\n",
    "\r\n",
    "+ The data is normally distributed or not\r\n",
    "\r\n",
    "+ All population variance equal or not"
   ],
   "metadata": {}
  },
  {
   "cell_type": "markdown",
   "source": [
    "VARIANCE TEST (F TEST)\r\n",
    "$$H_0: \\sigma^2_{max} = \\sigma^2_{min}$$\r\n",
    "$$H_1: \\sigma^2_{max} \\not= \\sigma^2_{min}$$"
   ],
   "metadata": {}
  },
  {
   "cell_type": "code",
   "execution_count": 6,
   "source": [
    "# Create lists values of each treatment\r\n",
    "Treatment_1 = [7,  12,  9,  11,  8,  9, 11, 10, 7, 8 ]\r\n",
    "Treatment_2 = [11,  17,  16,  13,  10,  15, 14, 18 ]\r\n",
    "Treatment_3 = [8,  6,  10,  9,  11,  7, 10 ]\r\n"
   ],
   "outputs": [],
   "metadata": {}
  },
  {
   "cell_type": "code",
   "execution_count": 27,
   "source": [
    "import statistics\r\n",
    "\r\n",
    "Variance_1 = statistics.variance(Treatment_1)\r\n",
    "print(\"Variace of Treatment 1 =\", Variance_1)\r\n",
    "n_1 = len(Treatment_1)\r\n",
    "print(\"n_1 =\", n_1)\r\n",
    "\r\n",
    "\r\n",
    "Variance_2 = statistics.variance(Treatment_2)\r\n",
    "print(\"Variace of Treatment 2 =\", Variance_2)\r\n",
    "n_2 = len(Treatment_2)\r\n",
    "print(\"n_2 =\", n_2)\r\n",
    "\r\n",
    "\r\n",
    "Variance_3 = statistics.variance(Treatment_3)\r\n",
    "print(\"Variace of Treatment 3 =\", Variance_3)\r\n",
    "n_3 = len(Treatment_3)\r\n",
    "print(\"n_3 =\", n_3)"
   ],
   "outputs": [
    {
     "output_type": "stream",
     "name": "stdout",
     "text": [
      "Variace of Treatment 1 = 3.066666666666667\n",
      "n_1 = 10\n",
      "Variace of Treatment 2 = 7.928571428571429\n",
      "n_2 = 8\n",
      "Variace of Treatment 3 = 3.238095238095238\n",
      "n_3 = 7\n"
     ]
    }
   ],
   "metadata": {}
  },
  {
   "cell_type": "code",
   "execution_count": 28,
   "source": [
    "# Find Variace maximum \r\n",
    "Var_Max = max([Variance_1, Variance_2, Variance_3])\r\n",
    "print(\"Maximum variance =\", Var_Max)\r\n",
    "\r\n",
    "# Find Variace minimum\r\n",
    "Var_Min = min([Variance_1, Variance_2, Variance_3])\r\n",
    "print(\"Manimum variance =\", Var_Min)"
   ],
   "outputs": [
    {
     "output_type": "stream",
     "name": "stdout",
     "text": [
      "Maximum variance = 7.928571428571429\n",
      "Manimum variance = 3.066666666666667\n"
     ]
    }
   ],
   "metadata": {}
  },
  {
   "cell_type": "markdown",
   "source": [
    "$$F_{score} = \\frac{S^2_{max}}{S^2_{min}}$$"
   ],
   "metadata": {}
  },
  {
   "cell_type": "code",
   "execution_count": 36,
   "source": [
    "F_score = Var_Max/Var_Min\r\n",
    "print(\"F_score =\", F_score)\r\n",
    "\r\n",
    "# Compute critical value\r\n",
    "alpha = 0.05\r\n",
    "\r\n",
    "from scipy.stats import f\r\n",
    "F_crit_1 = f.ppf(alpha/2, n_2 -1, n_1 - 1)\r\n",
    "print(\"Critical value 1 =\", F_crit_1)\r\n",
    "\r\n",
    "F_crit_2 = f.ppf(1 - alpha/2, n_2 -1, n_1 - 1)\r\n",
    "print(\"Critical value 2 =\", F_crit_2)"
   ],
   "outputs": [
    {
     "output_type": "stream",
     "name": "stdout",
     "text": [
      "F_score = 2.5854037267080745\n",
      "Critical value 1 = 0.2073304979757461\n",
      "Critical value 2 = 4.197046636945515\n"
     ]
    }
   ],
   "metadata": {}
  },
  {
   "cell_type": "code",
   "execution_count": 40,
   "source": [
    "# Decision Making\r\n",
    "if F_crit_1 <= F_score <= F_crit_2:\r\n",
    "    print(\"Do not reject Ho\")\r\n",
    "    print(\"Conclusion: All the population variances are equal\")\r\n",
    "else:\r\n",
    "    print(\"Reject Ho\")\r\n",
    "    print(\"Conclusion: All the population variances are NOT equal\")"
   ],
   "outputs": [
    {
     "output_type": "stream",
     "name": "stdout",
     "text": [
      "Do not reject Ho\n",
      "Conclusion: All the population variances are equal\n"
     ]
    }
   ],
   "metadata": {}
  },
  {
   "cell_type": "markdown",
   "source": [
    "NORMALITY TEST\r\n",
    "$$H_o: The \\ data \\ follow \\ normal \\ distribution$$\r\n",
    "$$H_1: The \\ data \\ does \\ not \\ follow \\ normal \\ distribution$$\r\n"
   ],
   "metadata": {}
  },
  {
   "cell_type": "code",
   "execution_count": 64,
   "source": [
    "import numpy as np  \r\n",
    "Data = np.array([7, 12, 9, 11, 8 ,9, 11, 10, 7,8 ,11, 17, 16, 13, 10, 15, 14, 18, 8, 6, 10, 9, 11,7, 10])\r\n",
    "\r\n",
    "# Find the average and standard deviation of the data\r\n",
    "x_bar = Data.mean()\r\n",
    "print(\"x_bar =\", x_bar)\r\n",
    "s = Data.std(ddof=1)\r\n",
    "print(\"Sample standard deviation s =\", s)\r\n"
   ],
   "outputs": [
    {
     "output_type": "stream",
     "name": "stdout",
     "text": [
      "x_bar = 10.68\n",
      "Sample standard deviation s = 3.249615361854384\n"
     ]
    }
   ],
   "metadata": {}
  },
  {
   "cell_type": "code",
   "execution_count": 65,
   "source": [
    "from IPython.display import Image\r\n",
    "Image(filename='normalitytest.png') "
   ],
   "outputs": [
    {
     "output_type": "execute_result",
     "data": {
      "image/png": "[encoded data removed]",
      "text/plain": [
       "<IPython.core.display.Image object>"
      ]
     },
     "metadata": {},
     "execution_count": 65
    }
   ],
   "metadata": {}
  },
  {
   "cell_type": "code",
   "execution_count": 76,
   "source": [
    "from scipy.stats import norm\r\n",
    "# Compute X1, X2, X3, X4, X5 \r\n",
    "X1 = norm.ppf(0.16, loc = x_bar, scale = s)\r\n",
    "print(\"X1 =\", X1)\r\n",
    "\r\n",
    "X2 = norm.ppf(0.16 + 0.17, loc = x_bar, scale = s)\r\n",
    "print(\"X2 =\", X2)\r\n",
    "\r\n",
    "X3 = norm.ppf(0.16 + 0.17*2, loc = x_bar, scale = s)\r\n",
    "print(\"X3 =\", X3)\r\n",
    "\r\n",
    "X4 = norm.ppf(0.16 + 0.17*3, loc = x_bar, scale = s)\r\n",
    "print(\"X4 =\", X4)\r\n",
    "\r\n",
    "X5 = norm.ppf(0.16 + 0.17*4, loc = x_bar, scale = s)\r\n",
    "print(\"X5 =\", X5)"
   ],
   "outputs": [
    {
     "output_type": "stream",
     "name": "stdout",
     "text": [
      "X1 = 7.448394386004393\n",
      "X2 = 9.250451418946266\n",
      "X3 = 10.68\n",
      "X4 = 12.109548581053733\n",
      "X5 = 13.911605613995608\n"
     ]
    }
   ],
   "metadata": {}
  },
  {
   "cell_type": "code",
   "execution_count": 98,
   "source": [
    "# Create a function to count how many observed value in each interval\r\n",
    "def Observation(start, end, ListOfData):\r\n",
    "    ListOfi = []\r\n",
    "    for i in ListOfData:\r\n",
    "        if i >= start and i <= end:\r\n",
    "            ListOfi.append(i)\r\n",
    "            Observed = len(ListOfi)\r\n",
    "    print(\"There are {Observed} observed values from larger than {start} to smaller or equal {end}\".format(Observed=Observed,start=start, end = end))\r\n"
   ],
   "outputs": [],
   "metadata": {}
  },
  {
   "cell_type": "code",
   "execution_count": 101,
   "source": [
    "Observation(0, X1, Data)\r\n",
    "Observation(X1, X2, Data)\r\n",
    "Observation(X2, X3, Data)\r\n",
    "Observation(X3, X4, Data)\r\n",
    "Observation(X4, X5, Data)\r\n",
    "Observation(X5, float(\"inf\"), Data)"
   ],
   "outputs": [
    {
     "output_type": "stream",
     "name": "stdout",
     "text": [
      "There are 4 observed values from larger than 0 to smaller or equal 7.448394386004393\n",
      "There are 6 observed values from larger than 7.448394386004393 to smaller or equal 9.250451418946266\n",
      "There are 4 observed values from larger than 9.250451418946266 to smaller or equal 10.68\n",
      "There are 5 observed values from larger than 10.68 to smaller or equal 12.109548581053733\n",
      "There are 1 observed values from larger than 12.109548581053733 to smaller or equal 13.911605613995608\n",
      "There are 5 observed values from larger than 13.911605613995608 to smaller or equal inf\n"
     ]
    }
   ],
   "metadata": {}
  },
  {
   "cell_type": "code",
   "execution_count": 103,
   "source": [
    "n = len(Data)\r\n",
    "print(\"Sample size n =\", n)\r\n",
    "\r\n",
    "# Compute the expected value\r\n",
    "Expcted_1 = n*0.16\r\n",
    "print(\"Expected value 1 =\", Expcted_1)\r\n",
    "\r\n",
    "Expcted_2 = n*0.17\r\n",
    "print(\"Expected value 2 =\", Expcted_2)\r\n",
    "\r\n",
    "Expcted_3 = n*0.17\r\n",
    "print(\"Expected value 3 =\", Expcted_3)\r\n",
    "\r\n",
    "Expcted_4 = n*0.17\r\n",
    "print(\"Expected value 4 =\", Expcted_4)\r\n",
    "\r\n",
    "Expcted_5 = n*0.17\r\n",
    "print(\"Expected value 5 =\", Expcted_5)\r\n",
    "\r\n",
    "Expcted_6 = n*0.16\r\n",
    "print(\"Expected value 6 =\", Expcted_6)"
   ],
   "outputs": [
    {
     "output_type": "stream",
     "name": "stdout",
     "text": [
      "Sample size n = 25\n",
      "Expected value 1 = 4.0\n",
      "Expected value 2 = 4.25\n",
      "Expected value 3 = 4.25\n",
      "Expected value 4 = 4.25\n",
      "Expected value 5 = 4.25\n",
      "Expected value 6 = 4.0\n"
     ]
    }
   ],
   "metadata": {}
  },
  {
   "cell_type": "markdown",
   "source": [
    "Table of Observed and Expected value\r\n",
    "|s|Observed|Expected|\r\n",
    "|--|--|--|\r\n",
    "|$X \\le 7.448$ |4|4|\r\n",
    "|$7.448 \\le x \\le 9.250$ |6|4.25|\r\n",
    "|$9.250 \\le X \\le 10.68$ |4|4.25|\r\n",
    "|$10.68 \\le X \\le 12.110$ |5|4.25|\r\n",
    "|$12.110 \\le X \\le 13.912$ |1|4.25|\r\n",
    "|$X \\ge 13.912$ |5|4|"
   ],
   "metadata": {}
  },
  {
   "cell_type": "markdown",
   "source": [
    "$$\\chi^2_{score} = \\sum{\\frac{(Observed - Expected)^2}{Expected}}$$"
   ],
   "metadata": {}
  },
  {
   "cell_type": "code",
   "execution_count": 125,
   "source": [
    "Observed = [4, 6, 4, 5, 1, 5]\r\n",
    "Expected = [4, 4.25, 4.25, 4.25, 4.25, 4]\r\n",
    "ChiSquare_Score = 0\r\n",
    "# Compute Chi Square score\r\n",
    "for o, e in zip(Observed,Expected):\r\n",
    "    X = (o - e)**2/e\r\n",
    "    ChiSquare_Score += X\r\n",
    "print(\"ChiSquare score =\", ChiSquare_Score)"
   ],
   "outputs": [
    {
     "output_type": "stream",
     "name": "stdout",
     "text": [
      "ChiSquare score = 3.6029411764705883\n"
     ]
    }
   ],
   "metadata": {}
  },
  {
   "cell_type": "code",
   "execution_count": 123,
   "source": [
    "# Compute Critical value\r\n",
    "from scipy.stats import chi2\r\n",
    "alpha = 0.05\r\n",
    "# Degree of freedom = k (number of intervals) - 3 (default)\r\n",
    "df = 6 - 3\r\n",
    "critical_value = chi2.ppf(1-alpha, df)\r\n",
    "print(\"Critical value =\", critical_value)"
   ],
   "outputs": [
    {
     "output_type": "stream",
     "name": "stdout",
     "text": [
      "Critical value = 7.814727903251179\n"
     ]
    }
   ],
   "metadata": {}
  },
  {
   "cell_type": "code",
   "execution_count": 126,
   "source": [
    "# Decision Making\r\n",
    "if ChiSquare_Score <= critical_value:\r\n",
    "    print(\"Do not Reject Ho\")\r\n",
    "    print(\"Conclusion: The data follow normal distribution\")\r\n",
    "else:\r\n",
    "    print(\"Reject Ho\")\r\n",
    "    print(\"Conclusion: The data do not follow normal distribution\")"
   ],
   "outputs": [
    {
     "output_type": "stream",
     "name": "stdout",
     "text": [
      "Do not Reject Ho\n",
      "Conclusion: The data follow normal distribution\n"
     ]
    }
   ],
   "metadata": {}
  },
  {
   "cell_type": "code",
   "execution_count": 127,
   "source": [
    "# Compute average for each treatment and grand mean\r\n",
    "import statistics\r\n",
    "Yellow_bar = statistics.mean(Yellow)\r\n",
    "print(\"The average number of insects trapped in yellow board, Yellow_bar =\", Yellow_bar)\r\n",
    "\r\n",
    "White_bar = statistics.mean(White)\r\n",
    "print(\"The average number of insects trapped in white board, White_bar =\", White_bar)\r\n",
    "\r\n",
    "Green_bar = statistics.mean(Green)\r\n",
    "print(\"The average number of insects trapped in green board, Green_bar =\", Green_bar)\r\n",
    "\r\n",
    "Blue_bar = statistics.mean(Blue)\r\n",
    "print(\"The average number of insects trapped in blue board, Blue_bar =\", Blue_bar)\r\n",
    "\r\n",
    "Grand_Mean = statistics.mean(Total)\r\n",
    "print(\"Grand mean =\", Grand_Mean)"
   ],
   "outputs": [
    {
     "output_type": "error",
     "ename": "NameError",
     "evalue": "name 'Yellow' is not defined",
     "traceback": [
      "\u001b[1;31m---------------------------------------------------------------------------\u001b[0m",
      "\u001b[1;31mNameError\u001b[0m                                 Traceback (most recent call last)",
      "\u001b[1;32m~\\AppData\\Local\\Temp/ipykernel_6016/917034311.py\u001b[0m in \u001b[0;36m<module>\u001b[1;34m\u001b[0m\n\u001b[0;32m      1\u001b[0m \u001b[1;31m# Compute average for each treatment and grand mean\u001b[0m\u001b[1;33m\u001b[0m\u001b[1;33m\u001b[0m\u001b[1;33m\u001b[0m\u001b[0m\n\u001b[0;32m      2\u001b[0m \u001b[1;32mimport\u001b[0m \u001b[0mstatistics\u001b[0m\u001b[1;33m\u001b[0m\u001b[1;33m\u001b[0m\u001b[0m\n\u001b[1;32m----> 3\u001b[1;33m \u001b[0mYellow_bar\u001b[0m \u001b[1;33m=\u001b[0m \u001b[0mstatistics\u001b[0m\u001b[1;33m.\u001b[0m\u001b[0mmean\u001b[0m\u001b[1;33m(\u001b[0m\u001b[0mYellow\u001b[0m\u001b[1;33m)\u001b[0m\u001b[1;33m\u001b[0m\u001b[1;33m\u001b[0m\u001b[0m\n\u001b[0m\u001b[0;32m      4\u001b[0m \u001b[0mprint\u001b[0m\u001b[1;33m(\u001b[0m\u001b[1;34m\"The average number of insects trapped in yellow board, Yellow_bar =\"\u001b[0m\u001b[1;33m,\u001b[0m \u001b[0mYellow_bar\u001b[0m\u001b[1;33m)\u001b[0m\u001b[1;33m\u001b[0m\u001b[1;33m\u001b[0m\u001b[0m\n\u001b[0;32m      5\u001b[0m \u001b[1;33m\u001b[0m\u001b[0m\n",
      "\u001b[1;31mNameError\u001b[0m: name 'Yellow' is not defined"
     ]
    }
   ],
   "metadata": {}
  },
  {
   "cell_type": "code",
   "execution_count": null,
   "source": [
    "# Create a function to compute error deviation\r\n",
    "def ComputeError(Color):\r\n",
    "    List_Error = []\r\n",
    "    for i in Color:\r\n",
    "        ErrorDeviation = i - statistics.mean(Color)\r\n",
    "        List_Error.append(ErrorDeviation)\r\n",
    "    return List_Error\r\n",
    "\r\n",
    "print(\"List error deviation of Yellow treatment =\", ComputeError(Yellow))\r\n",
    "print(\"List error deviation of White treatment =\", ComputeError(White))\r\n",
    "print(\"List error deviation of Green treatment =\", ComputeError(Green))\r\n",
    "print(\"List error deviation of Blue treatment =\", ComputeError(Blue))\r\n"
   ],
   "outputs": [
    {
     "output_type": "stream",
     "name": "stdout",
     "text": [
      "List error deviation of Yellow treatment = [-2.1666666666666643, 11.833333333333336, 0.8333333333333357, -1.1666666666666643, -9.166666666666664, -0.1666666666666643]\n",
      "List error deviation of White treatment = [5.333333333333334, -3.666666666666666, -1.666666666666666, 1.333333333333334, -2.666666666666666, 1.333333333333334]\n",
      "List error deviation of Green treatment = [5.5, 0.5, -16.5, -6.5, 7.5, 9.5]\n",
      "List error deviation of Blue treatment = [1.166666666666666, -3.833333333333334, 5.166666666666666, 6.166666666666666, -0.8333333333333339, -7.833333333333334]\n"
     ]
    }
   ],
   "metadata": {}
  },
  {
   "cell_type": "code",
   "execution_count": null,
   "source": [
    "Error_Total = ComputeError(Yellow) + ComputeError(White) + ComputeError(Green) + ComputeError(Blue)\r\n",
    "\r\n",
    "print(\"List error deviation of all treament=\", Error_Total)"
   ],
   "outputs": [
    {
     "output_type": "stream",
     "name": "stdout",
     "text": [
      "List error deviation of all treament= [-2.1666666666666643, 11.833333333333336, 0.8333333333333357, -1.1666666666666643, -9.166666666666664, -0.1666666666666643, 5.333333333333334, -3.666666666666666, -1.666666666666666, 1.333333333333334, -2.666666666666666, 1.333333333333334, 5.5, 0.5, -16.5, -6.5, 7.5, 9.5, 1.166666666666666, -3.833333333333334, 5.166666666666666, 6.166666666666666, -0.8333333333333339, -7.833333333333334]\n"
     ]
    }
   ],
   "metadata": {}
  },
  {
   "cell_type": "code",
   "execution_count": null,
   "source": [
    "# Compute Sum of squares of error (SSE)\r\n",
    "Square_Error_List = []\r\n",
    "for i in Error_Total:\r\n",
    "    i = i**2\r\n",
    "    Square_Error_List.append(i)\r\n",
    "\r\n",
    "SSE = statistics.fsum(Square_Error_List)\r\n",
    "print(\"SSE =\",SSE)"
   ],
   "outputs": [
    {
     "output_type": "stream",
     "name": "stdout",
     "text": [
      "SSE = 920.5\n"
     ]
    }
   ],
   "metadata": {}
  },
  {
   "cell_type": "markdown",
   "source": [
    "$$MSE\\ (Mean\\ Square\\ Error) = \\frac{SSE}{n-r}$$\r\n",
    "where:\r\n",
    "+ r = number of treatments (or groups)\r\n",
    "+ n = total observations"
   ],
   "metadata": {}
  },
  {
   "cell_type": "code",
   "execution_count": null,
   "source": [
    "# Total observation n = 24\r\n",
    "n = 24\r\n",
    "\r\n",
    "# Number of treatments r = 4\r\n",
    "r = 4\r\n",
    "\r\n",
    "MSE = SSE/(n-r)\r\n",
    "print(\"MSE =\",MSE)"
   ],
   "outputs": [
    {
     "output_type": "stream",
     "name": "stdout",
     "text": [
      "MSE = 46.025\n"
     ]
    }
   ],
   "metadata": {}
  },
  {
   "cell_type": "markdown",
   "source": [
    "$$SSTr = n_1*(\\bar{X_1} - \\bar{\\bar{X}})^2 + n_2*(\\bar{X_2} - \\bar{\\bar{X}})^2 + n_3*(\\bar{X_3} - \\bar{\\bar{X}})^2 + ... + n_i*(\\bar{X_i} - \\bar{\\bar{X}})^2$$\r\n",
    "where:\r\n",
    "+ $\\bar{\\bar{X}}$ = Grand mean"
   ],
   "metadata": {}
  },
  {
   "cell_type": "code",
   "execution_count": null,
   "source": [
    "n_1 = len(Yellow)\r\n",
    "print(\"n_1 =\",n_1)\r\n",
    "\r\n",
    "n_2 = len(White)\r\n",
    "print(\"n_2 =\",n_2)\r\n",
    "\r\n",
    "n_3 = len(Green)\r\n",
    "print(\"n_3 =\",n_3)\r\n",
    "\r\n",
    "n_4 = len(Blue)\r\n",
    "print(\"n_4 =\",n_4)"
   ],
   "outputs": [
    {
     "output_type": "stream",
     "name": "stdout",
     "text": [
      "n_1 = 6\n",
      "n_2 = 6\n",
      "n_3 = 6\n",
      "n_4 = 6\n"
     ]
    }
   ],
   "metadata": {}
  },
  {
   "cell_type": "code",
   "execution_count": null,
   "source": [
    "SSTr = n_1*(Yellow_bar - Grand_Mean)**2 + n_2*(White_bar - Grand_Mean)**2 + n_3*(Green_bar - Grand_Mean)**2 + n_4*(Blue_bar - Grand_Mean)**2\r\n",
    "print(\"SSTr =\", SSTr)"
   ],
   "outputs": [
    {
     "output_type": "stream",
     "name": "stdout",
     "text": [
      "SSTr = 4218.458333333332\n"
     ]
    }
   ],
   "metadata": {}
  },
  {
   "cell_type": "markdown",
   "source": [
    "$$MSTr\\ (Mean\\ Square\\ Treatment) = \\frac{SSTr}{r - 1} $$"
   ],
   "metadata": {}
  },
  {
   "cell_type": "code",
   "execution_count": null,
   "source": [
    "MSTr = SSTr / (r -1)\r\n",
    "print(\"MSTr =\", MSTr)"
   ],
   "outputs": [
    {
     "output_type": "stream",
     "name": "stdout",
     "text": [
      "MSTr = 1406.1527777777774\n"
     ]
    }
   ],
   "metadata": {}
  },
  {
   "cell_type": "markdown",
   "source": [
    "$$F_{(r - 1, n - r)} = \\frac{MSTr}{MSE}$$"
   ],
   "metadata": {}
  },
  {
   "cell_type": "code",
   "execution_count": null,
   "source": [
    "F_score = MSTr/MSE\r\n",
    "print(\"F_score =\", F_score)\r\n",
    "\r\n",
    "# Compute critical value\r\n",
    "\"\"\"Anova is a right tailed test\"\"\"\r\n",
    "alpha = 0.05\r\n",
    "\r\n",
    "from scipy.stats import f\r\n",
    "critical_value = f.ppf(1 - alpha, r - 1, n - r)\r\n",
    "print(\"Critical value =\", critical_value)"
   ],
   "outputs": [
    {
     "output_type": "stream",
     "name": "stdout",
     "text": [
      "F_score = 30.55193433520429\n",
      "Critical value = 3.09839121214078\n"
     ]
    }
   ],
   "metadata": {}
  },
  {
   "cell_type": "code",
   "execution_count": null,
   "source": [
    "# Decision making\r\n",
    "if F_score < critical_value:\r\n",
    "    print(\"Do not reject Ho\")\r\n",
    "else:\r\n",
    "    print(\"Reject Ho\")"
   ],
   "outputs": [
    {
     "output_type": "stream",
     "name": "stdout",
     "text": [
      "Reject Ho\n"
     ]
    }
   ],
   "metadata": {}
  },
  {
   "cell_type": "markdown",
   "source": [
    "Conclusion: There is evidence of significant differences among the mean abundances"
   ],
   "metadata": {}
  }
 ],
 "metadata": {
  "orig_nbformat": 4,
  "language_info": {
   "name": "python",
   "version": "3.9.1",
   "mimetype": "text/x-python",
   "codemirror_mode": {
    "name": "ipython",
    "version": 3
   },
   "pygments_lexer": "ipython3",
   "nbconvert_exporter": "python",
   "file_extension": ".py"
  },
  "kernelspec": {
   "name": "python3",
   "display_name": "Python 3.9.1 64-bit"
  },
  "interpreter": {
   "hash": "b04f92276c7f1f1d3a26077c5c09795688850f60751ffad3d76423a408f11422"
  }
 },
 "nbformat": 4,
 "nbformat_minor": 2
}