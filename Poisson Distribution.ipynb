{
 "cells": [
  {
   "cell_type": "markdown",
   "source": [
    "                        POISSON DISTRIBUTION\r\n",
    "\r\n",
    "A poisson distribution is a discrete probability distribution that expresses the probability of a given number of events occurring in a fixed interval of time or space if these events occur with a known constant mean rate and independently of the time since the last event. The Poisson distribution can also be used for the number of events in other specified intervals such as distance, area or volume.\r\n",
    "\r\n",
    "For instance:\r\n",
    "+ A hospital records an average of 200 new born babies per hour (λ = babies/hour). \r\n",
    "+ A police station receives an average of 15 calls every three hours (λ = 15 calls/3hours)\r\n",
    "\r\n",
    "Formal Definition: A discrete random variable X has a Poisson distribution with parameter λ if for k=0,1,2.., the probability mass function of X is given by:\r\n",
    "\r\n",
    "$$Pr(X=k)=\\frac{\\lambda^ke^{-\\lambda}}{k!}$$\r\n",
    "where e is Euler's number (e=2.718...) and k! is the factorial of k.\r\n",
    "\r\n",
    "  Assumptions and validity:\r\n",
    "The Poisson distribution is an appropriate model if the following assumptions are true:\r\n",
    "+ k is the number of times an event occurs in an interval and k can take values 0, 1, 2, ...\r\n",
    "+ The occurrence of one event does not affect the probability that a second event will occur. That is, events occur independently.\r\n",
    "+ The average rate at which events occur is independent of any occurrences. For simplicity, this is usually assumed to be constant, but may in practice vary with time.\r\n",
    "+ Two events cannot occur at exactly the same instant; instead, at each very small sub-interval exactly one event either occurs or does not occur.\r\n",
    "\r\n",
    "Let's see some exercises\r\n",
    "\r\n",
    "\r\n"
   ],
   "metadata": {}
  },
  {
   "cell_type": "markdown",
   "source": [
    "Exercise 1: Suppose the average number of car accidents on the highway in one day is 4. \r\n",
    "\r\n",
    "a/ What is the probability of no car accident in one day?\r\n",
    "\r\n",
    "b/ What is the probability of 1 car accident in two days?"
   ],
   "metadata": {}
  },
  {
   "cell_type": "code",
   "execution_count": 8,
   "source": [
    "# Ex 1a: First we have to set variables and import math library\r\n",
    "lamb = 4 # λ = 4 car accidents/day\r\n",
    "k = 0\r\n",
    "\r\n",
    "# Import math library\r\n",
    "from math import factorial\r\n",
    "from math import exp\r\n",
    "\r\n",
    "# Compute the probability of 0 car accident in one day\r\n",
    "prob = (lamb**k)*exp(-lamb)/factorial(k)\r\n",
    "\r\n",
    "# Print the output\r\n",
    "print(prob)\r\n"
   ],
   "outputs": [
    {
     "output_type": "stream",
     "name": "stdout",
     "text": [
      "0.01831563888873418\n"
     ]
    }
   ],
   "metadata": {}
  },
  {
   "cell_type": "markdown",
   "source": [
    "There is a 1.83 % chance that no car accident in one day"
   ],
   "metadata": {}
  },
  {
   "cell_type": "code",
   "execution_count": 9,
   "source": [
    "# Ex 1b: \r\n",
    "lamb2 = 8 # λ1 = 4 car accidents/day => λ2 = 8 car accidents/2days\r\n",
    "k = 1\r\n",
    "\r\n",
    "# Import math library\r\n",
    "from math import factorial\r\n",
    "from math import exp\r\n",
    "\r\n",
    "# Compute the probability of 1 car accident in two days\r\n",
    "prob = (lamb2**k)*exp(-lamb2)/factorial(k)\r\n",
    "\r\n",
    "# Print the output\r\n",
    "print(prob)\r\n"
   ],
   "outputs": [
    {
     "output_type": "stream",
     "name": "stdout",
     "text": [
      "0.002683701023220095\n"
     ]
    }
   ],
   "metadata": {}
  },
  {
   "cell_type": "markdown",
   "source": [
    "There is a 0.268 % chance that 1 car accident in two days"
   ],
   "metadata": {}
  },
  {
   "cell_type": "markdown",
   "source": [
    "Exercise 2: Suppose an average number of calls by 104 in one minute is 2. \r\n",
    "\r\n",
    "a/ What is the probability of 10 calls in 5 minutes?\r\n",
    "\r\n",
    "b/ What is the probability of less than 10 calls in 5 minutes?\r\n",
    "\r\n",
    "c/ What is the probability of at least 10 calls in 5 minutes?\r\n",
    "\r\n",
    "d/ What is the probability of exactly 10 calls in 30 seconds?"
   ],
   "metadata": {}
  },
  {
   "cell_type": "code",
   "execution_count": 12,
   "source": [
    "# Ex 2a: Set variables\r\n",
    "lamb = 10  # λ = 2*5 calls/5 minutes\r\n",
    "k = 10\r\n",
    "\r\n",
    "# Import math library\r\n",
    "from math import factorial\r\n",
    "from math import exp\r\n",
    "\r\n",
    "\r\n",
    "# Compute the probability of 1 car accident in two days\r\n",
    "prob = (lamb**k)*exp(-lamb)/factorial(k)\r\n",
    "\r\n",
    "# Print the output\r\n",
    "print(prob)\r\n",
    "\r\n"
   ],
   "outputs": [
    {
     "output_type": "stream",
     "name": "stdout",
     "text": [
      "0.1251100357211333\n"
     ]
    }
   ],
   "metadata": {}
  },
  {
   "cell_type": "markdown",
   "source": [
    "There is a 12.511 % chance that the center receives 10 calls in 5 minutes"
   ],
   "metadata": {}
  },
  {
   "cell_type": "code",
   "execution_count": 31,
   "source": [
    "# Ex 2b:\r\n",
    "# First, install python -m pip install --user numpy scipy matplotlib ipython jupyter pandas sympy nose\r\n",
    "from scipy.stats import poisson\r\n",
    "\r\n",
    "# Calculate probability of less 10 calls in 5 minutes\r\n",
    "# k < 10 and λ = 2*5 calls/5 minutes\r\n",
    "# Since k is an integer and less than 10 => k <= 9\r\n",
    "poisson.cdf(k=9, mu =10)\r\n"
   ],
   "outputs": [
    {
     "output_type": "execute_result",
     "data": {
      "text/plain": [
       "0.4579297144718523"
      ]
     },
     "metadata": {},
     "execution_count": 31
    }
   ],
   "metadata": {}
  },
  {
   "cell_type": "markdown",
   "source": [
    "There is a 45.793 % chance that the center receives less than 10 calls in 5 minutes"
   ],
   "metadata": {}
  },
  {
   "cell_type": "code",
   "execution_count": 36,
   "source": [
    "# Ex 2c:\r\n",
    "from scipy.stats import poisson\r\n",
    "\r\n",
    "# k >= 10 and λ = 2*5 calls/5 minutes\r\n",
    "# Calculate the probability of at least 10 calls in 5 minutes by 1 - p(k <= 9)\r\n",
    "1 - poisson.cdf(k=9, mu =10)\r\n"
   ],
   "outputs": [
    {
     "output_type": "execute_result",
     "data": {
      "text/plain": [
       "0.5420702855281476"
      ]
     },
     "metadata": {},
     "execution_count": 36
    }
   ],
   "metadata": {}
  },
  {
   "cell_type": "markdown",
   "source": [
    "There is a 54.207 % chance that the center receives at least 10 calls in 5 minutes"
   ],
   "metadata": {}
  },
  {
   "cell_type": "markdown",
   "source": [
    "Ex 4d:  What is the probability of exactly 10 calls in 30 seconds?\r\n",
    "\r\n",
    "The initial λ = 2 calls/minute\r\n",
    "\r\n",
    "Now we want to compute the probability of 10 calls in 30 seconds\r\n",
    "\r\n",
    "Which means the new λ' = λ/2 (This is not accurate)\r\n",
    "\r\n",
    "The new λ is deduced from the old one, thus, when we divide λ by a number which makes the result might not be correct\r\n",
    "\r\n",
    "For instance, 2^2 = 4\r\n",
    "\r\n",
    "However, when you say square root of 4 is 2 which might not be correct because it can be -2\r\n",
    "\r\n",
    "Therefore, this given information is not accurate and we can not compute the probability of receiving 10 calls i 30 seconds\r\n",
    "\r\n"
   ],
   "metadata": {}
  }
 ],
 "metadata": {
  "orig_nbformat": 4,
  "language_info": {
   "name": "python",
   "version": "3.9.1",
   "mimetype": "text/x-python",
   "codemirror_mode": {
    "name": "ipython",
    "version": 3
   },
   "pygments_lexer": "ipython3",
   "nbconvert_exporter": "python",
   "file_extension": ".py"
  },
  "kernelspec": {
   "name": "python3",
   "display_name": "Python 3.9.1 64-bit"
  },
  "interpreter": {
   "hash": "b04f92276c7f1f1d3a26077c5c09795688850f60751ffad3d76423a408f11422"
  }
 },
 "nbformat": 4,
 "nbformat_minor": 2
}