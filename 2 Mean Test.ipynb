{
 "cells": [
  {
   "cell_type": "markdown",
   "source": [
    "Hypothesis Testing For Differences Between Means"
   ],
   "metadata": {}
  },
  {
   "cell_type": "markdown",
   "source": [
    "Tests of Significance for Two Unknown Means and Known Standard Deviations\r\n",
    "\r\n",
    "Given samples from two normal populations of size n1 and n2 with unknown means  and  and known standard deviations  and , the test statistic comparing the means is known as the two-sample z statistic\r\n",
    "\r\n",
    "$$Z_{score} = \\frac{(\\bar{X_1} - \\bar{X_2}) - (\\mu_{1} - \\mu_{2})}{\\sqrt{\\frac{\\sigma_{1}^2}{n_{1}}+\\frac{\\sigma_{2}^2}{n_{2}}}}$$\r\n"
   ],
   "metadata": {}
  },
  {
   "cell_type": "markdown",
   "source": [
    "Exercise 1: A sample of 87 men showed that the average calcium depletion per year i 3352 µg. The population standard  deviation is 1100 µg.\r\n",
    "A sample of 76 women showed that the  average calcium depletion per year is 5727 µg, with a  population standard deviation of 1700 µg.\r\n",
    "A researcher wants  to “prove” that women lose more calcium. If they use $\\alpha$ = 0.01 and these sample data,will they be able to reject a null hypothesis that women annually lose as much (or less) calcium  as men do? "
   ],
   "metadata": {}
  },
  {
   "cell_type": "markdown",
   "source": [
    "$$H_o: \\mu_{women} - \\mu_{men} \\le 0$$"
   ],
   "metadata": {}
  },
  {
   "cell_type": "markdown",
   "source": [
    "$$H_1: \\mu_{women} - \\mu_{men} > 0$$"
   ],
   "metadata": {}
  },
  {
   "cell_type": "code",
   "execution_count": 20,
   "source": [
    "# Set variable for women\r\n",
    "X_bar_women = 5727\r\n",
    "sigma_women = 1700\r\n",
    "n_women = 76"
   ],
   "outputs": [],
   "metadata": {}
  },
  {
   "cell_type": "code",
   "execution_count": 21,
   "source": [
    "# Set variable for men\r\n",
    "X_bar_men = 3352\r\n",
    "sigma_men = 1100\r\n",
    "n_men = 87"
   ],
   "outputs": [],
   "metadata": {}
  },
  {
   "cell_type": "markdown",
   "source": [
    "$$Z_{score} = \\frac{(\\bar{X_{women}} - \\bar{X_{men}}) - (\\mu_{women} - \\mu_{men})}{\\sqrt{\\frac{\\sigma_{women}^2}\r\n",
    "{n_{women}}+\\frac{\\sigma_{men}^2}{n_{men}}}}$$"
   ],
   "metadata": {}
  },
  {
   "cell_type": "markdown",
   "source": [
    "$$\\mu_{women} - \\mu_{men} = 0$$"
   ],
   "metadata": {}
  },
  {
   "cell_type": "code",
   "execution_count": 22,
   "source": [
    "# Compute test statistic Z_score\r\n",
    "import math\r\n",
    "Z_score = ((X_bar_women - X_bar_men)-0)/(math.sqrt(sigma_women**2/n_women + sigma_men**2/n_men))\r\n",
    "print(\"Z_score =\",Z_score)"
   ],
   "outputs": [
    {
     "output_type": "stream",
     "name": "stdout",
     "text": [
      "Z_score = 10.42164353961526\n"
     ]
    }
   ],
   "metadata": {}
  },
  {
   "cell_type": "code",
   "execution_count": 23,
   "source": [
    "alpha = 0.001\r\n",
    "\r\n",
    "# Compute critical value \r\n",
    "from scipy.stats import norm\r\n",
    "Z_crit = norm.ppf(1 - alpha)\r\n",
    "print(\"Critical value = \",Z_crit)"
   ],
   "outputs": [
    {
     "output_type": "stream",
     "name": "stdout",
     "text": [
      "Critical value =  3.090232306167813\n"
     ]
    }
   ],
   "metadata": {}
  },
  {
   "cell_type": "code",
   "execution_count": 24,
   "source": [
    "\"\"\"If Z_score < Z_crit, print reject Ho\r\n",
    "   Elif Z_score > Z_crit, print do not reject Ho\"\"\"\r\n",
    "\r\n",
    "if Z_score < Z_crit:\r\n",
    "    print(\"Do not reject Ho\")\r\n",
    "elif Z_score > Z_crit:\r\n",
    "    print(\"Reject Ho\")"
   ],
   "outputs": [
    {
     "output_type": "stream",
     "name": "stdout",
     "text": [
      "Reject Ho\n"
     ]
    }
   ],
   "metadata": {}
  },
  {
   "cell_type": "markdown",
   "source": [
    "Conclusion: Women annually lose more calcium than men"
   ],
   "metadata": {}
  },
  {
   "cell_type": "markdown",
   "source": [
    "t Test for Differences in Population Means\r\n",
    "\r\n",
    "+ Each of the two populations is normally distributed\r\n",
    "\r\n",
    "+ The two samples are independent\r\n",
    "\r\n",
    "+ The values of the population variances are unknown\r\n",
    "\r\n"
   ],
   "metadata": {}
  },
  {
   "cell_type": "markdown",
   "source": [
    "t Formula to Test the Difference in Means Assuming $\\sigma_{1}^2$ = $\\sigma_{2}^2$ \r\n",
    "$$t_{score} = \\frac{(\\bar{X_{1}}-\\bar{X_{2}})-(\\mu_{1}-\\mu_{2})}{\\sqrt{\\frac{s_1^2(n_1 -1)+s_2^2(n_2-1)}{n_1 + n_2 - 2}}\\sqrt{\\frac{1}{n_1}+\\frac{1}{n_2}}}$$\r\n",
    "\r\n",
    "$$df = n_{1} + n_{2} - 2$$"
   ],
   "metadata": {}
  },
  {
   "cell_type": "markdown",
   "source": [
    "t Formula to Test the Difference in Means Assuming $\\sigma_{1}^2$ != $\\sigma_{2}^2$ \r\n",
    "\r\n",
    "$$t_{score} = \\frac{(\\bar{X_1}-\\bar{X_2})-(\\mu_{1}-\\mu_{2})}{\\sqrt{\\frac{s_1^2}{n_1}+\\frac{s_2^2}{n_2}}}$$\r\n",
    "\r\n",
    "$$df = \\frac{(\\frac{s_1^2}{n_1}+\\frac{s_2^2}{n_2})^2}{\\frac{(\\frac{s_1^2}{n_1})^2}{n_1-1}+\\frac{(\\frac{s_2^2}{n_2})^2}{n_2 - 1}}$$"
   ],
   "metadata": {}
  },
  {
   "cell_type": "markdown",
   "source": [
    "F Test to Test the Difference in Variance\r\n",
    "\r\n",
    "$$F_{score} = \\frac{s_1^2}{s_2^2}$$\r\n",
    "\r\n",
    "$$df_{numerator} = n_1 - 1$$\r\n",
    "\r\n",
    "$$df_{denominator} = n_2 - 1$$"
   ],
   "metadata": {}
  },
  {
   "cell_type": "markdown",
   "source": [
    "A Paired Samples t Test\r\n",
    "\r\n",
    "A paired t-test is used to compare two population means where you have two samples in\r\n",
    "which observations in one sample can be paired with observations in the other sample.\r\n",
    "\r\n",
    "Example:\r\n",
    "\r\n",
    "+ Before and after measurements on the same individual \r\n",
    "\r\n",
    "+ Studies of twins \r\n",
    "\r\n",
    "+ Studies of spouses"
   ],
   "metadata": {}
  },
  {
   "cell_type": "markdown",
   "source": [
    "$$t_{score} = \\frac{\\bar{d}-D}{\\frac{s_d}{\\sqrt{n}}}$$\r\n",
    "\r\n",
    "where:\r\n",
    "\r\n",
    "+ $\\bar{d}$ = mean sample difference\r\n",
    "\r\n",
    "+ D = mean population difference\r\n",
    "\r\n",
    "+ $s_d$ = standard deviation of sample difference\r\n",
    "\r\n",
    "+ df = n - 1\r\n",
    "\r\n",
    "+ n = number of pairs"
   ],
   "metadata": {}
  },
  {
   "cell_type": "markdown",
   "source": [
    "Exercise 2: Employees working in a factory were tested for fatigue after working in hot and cold conditions. Eight men and eight women were tested in both environments. \r\n",
    "\r\n",
    "|Men|Men|Women|Women|\r\n",
    "|--|--|--|--|\r\n",
    "|$16^oC$|$25^oC$|$16^oC$|$25^oC$|\r\n",
    "|34|42|51|56|\r\n",
    "|37|39|53|59|\r\n",
    "|43|46|41|45|\r\n",
    "|25|25|59|57|\r\n",
    "|51|50|37|37|\r\n",
    "|37|41|42|46|\r\n",
    "|21|26|61|45|\r\n",
    "|28|30|52|50|\r\n",
    "\r\n",
    "a/ Is there any evidence that there was a difference in mean fatigue for the men due to the temperature? \r\n",
    "\r\n",
    "b/ Is there any evidence that men differ from women in respect of fatigue when working at $16^o C$?"
   ],
   "metadata": {}
  },
  {
   "cell_type": "markdown",
   "source": [
    "a/  Use Paired t test\r\n",
    "\r\n",
    "|Men|Men|difference|\r\n",
    "|--|--|--|\r\n",
    "|$16^oC$|$25^oC$|$16^oC$ - $25^oC$ |\r\n",
    "|34|42|-8|\r\n",
    "|37|39|-2|\r\n",
    "|43|46|-3|\r\n",
    "|25|25|0|\r\n",
    "|51|50|1|\r\n",
    "|37|41|-4|\r\n",
    "|21|26|-5|\r\n",
    "|28|30|-2|"
   ],
   "metadata": {}
  },
  {
   "cell_type": "markdown",
   "source": [
    "$$H_o: D = 0$$"
   ],
   "metadata": {}
  },
  {
   "cell_type": "markdown",
   "source": [
    "$$H_1: D \\not= 0$$"
   ],
   "metadata": {}
  },
  {
   "cell_type": "code",
   "execution_count": 2,
   "source": [
    "import numpy as np  \r\n",
    "import statistics\r\n",
    "# Create arrays \r\n",
    "Men_16oC = np.array([34,37,43,25,51,37,21,28])\r\n",
    "Men_25oC = np.array([42,39,46,25,50,41,26,30])\r\n",
    "d = Men_16oC - Men_25oC\r\n",
    "d = d.tolist()\r\n",
    "print(d)\r\n",
    "\r\n",
    "# Compute sample mean difference d_bar\r\n",
    "d_bar = statistics.mean(d)\r\n",
    "print(\"Sample mean difference d_bar =\", d_bar)\r\n",
    "\r\n",
    "# Compute standard deviation of sample difference\r\n",
    "sd = statistics.stdev(d)\r\n",
    "print(\"Standard deviation sd =\", sd)"
   ],
   "outputs": [
    {
     "output_type": "stream",
     "name": "stdout",
     "text": [
      "[-8, -2, -3, 0, 1, -4, -5, -2]\n",
      "Sample mean difference d_bar = -2.875\n",
      "Standard deviation sd = 2.850438562747845\n"
     ]
    }
   ],
   "metadata": {}
  },
  {
   "cell_type": "code",
   "execution_count": 5,
   "source": [
    "D = 0\r\n",
    "n = 8 \r\n",
    "alpha = 0.05\r\n",
    "df = n - 1\r\n",
    "import math\r\n",
    "# Compute test statistic t_score\r\n",
    "t_score = (d_bar - D)/(sd/math.sqrt(n))\r\n",
    "print(\"t_score\", t_score)\r\n",
    "\r\n",
    "# Compute critical value\r\n",
    "from scipy.stats import t\r\n",
    "t_crit1 = t.ppf(alpha/2, df)\r\n",
    "print(\"Critical value 1 =\", t_crit1)\r\n",
    "t_crit2 = t.ppf(1 - alpha/2,df)\r\n",
    "print(\"Critical value 2 =\", t_crit2)"
   ],
   "outputs": [
    {
     "output_type": "stream",
     "name": "stdout",
     "text": [
      "t_score -2.852798895551795\n",
      "Critical value 1 = -2.3646242510103\n",
      "Critical value 2 = 2.3646242510102993\n"
     ]
    }
   ],
   "metadata": {}
  },
  {
   "cell_type": "code",
   "execution_count": 6,
   "source": [
    "# Decision making\r\n",
    "if t_score > t_crit1 and t_score < t_crit2:\r\n",
    "    print(\"Do not reject Ho\")\r\n",
    "else:\r\n",
    "    print(\"Reject Ho\")"
   ],
   "outputs": [
    {
     "output_type": "stream",
     "name": "stdout",
     "text": [
      "Reject Ho\n"
     ]
    }
   ],
   "metadata": {}
  },
  {
   "cell_type": "markdown",
   "source": [
    "Conclusion: There was a difference in mean fatigue for the men due to temperature"
   ],
   "metadata": {}
  },
  {
   "cell_type": "markdown",
   "source": [
    "b/  \r\n",
    "\r\n",
    "|Men|Women|\r\n",
    "|--|--|\r\n",
    "|$16^oC$|$16^oC$|\r\n",
    "|34|51|\r\n",
    "|37|53|\r\n",
    "|43|41|\r\n",
    "|25|59|\r\n",
    "|51|37|\r\n",
    "|37|42|\r\n",
    "|21|61|\r\n",
    "|28|52|"
   ],
   "metadata": {}
  },
  {
   "cell_type": "markdown",
   "source": [
    "In order to choose an appropriate Unpaired t test, first, we should use F-test to test whether the two population variance are equal or not. "
   ],
   "metadata": {}
  },
  {
   "cell_type": "markdown",
   "source": [
    "Variance F - test\r\n",
    "$$Ho: \\sigma_{1}^2 = \\sigma_{2}^2$$\r\n"
   ],
   "metadata": {}
  },
  {
   "cell_type": "markdown",
   "source": [
    "$$H1: \\sigma_{1}^2 \\not= \\sigma_{2}^2$$"
   ],
   "metadata": {}
  },
  {
   "cell_type": "code",
   "execution_count": 9,
   "source": [
    "# Create two lists of value for Men and Women\r\n",
    "Men = [34, 37, 43, 25, 51, 37, 21, 28]\r\n",
    "Women = [51, 53, 41, 59, 37, 42, 61, 52]\r\n",
    "\r\n",
    "# Compute sample variance \r\n",
    "import statistics\r\n",
    "variance_men = statistics.variance(Men)\r\n",
    "print(\"Sample variance for men =\", variance_men)\r\n",
    "\r\n",
    "variance_women = statistics.variance(Women)\r\n",
    "print(\"Sample variance for women =\", variance_women)"
   ],
   "outputs": [
    {
     "output_type": "stream",
     "name": "stdout",
     "text": [
      "Sample variance for men = 96.0\n",
      "Sample variance for women = 75.42857142857143\n"
     ]
    }
   ],
   "metadata": {}
  },
  {
   "cell_type": "code",
   "execution_count": 13,
   "source": [
    "n_men = 8\r\n",
    "n_women = 8\r\n",
    "df_1 = n_men - 1\r\n",
    "df_2 = n_women - 1\r\n",
    "alpha = 0.05\r\n",
    "\r\n",
    "# Compute test statistic F_score\r\n",
    "F_score = variance_men/variance_women\r\n",
    "print(\"F_score =\", F_score)\r\n",
    "\r\n",
    "# Compute critical value\r\n",
    "from scipy.stats import f\r\n",
    "F_crit1 = f.ppf(alpha/2,df_1,df_2)\r\n",
    "print(\"F_crit1 =\", F_crit1)\r\n",
    "\r\n",
    "F_crit2 = f.ppf(1 - alpha/2,df_1,df_2)\r\n",
    "print(\"F_crit2 =\", F_crit2)"
   ],
   "outputs": [
    {
     "output_type": "stream",
     "name": "stdout",
     "text": [
      "F_score = 1.2727272727272727\n",
      "F_crit1 = 0.20020383877718267\n",
      "F_crit2 = 4.994909219063238\n"
     ]
    }
   ],
   "metadata": {}
  },
  {
   "cell_type": "code",
   "execution_count": 14,
   "source": [
    "# Decision making\r\n",
    "if F_score > F_crit1 and F_score < F_crit2:\r\n",
    "    print(\"Do not reject Ho\")\r\n",
    "else:\r\n",
    "    print(\"Reject Ho\")"
   ],
   "outputs": [
    {
     "output_type": "stream",
     "name": "stdout",
     "text": [
      "Do not reject Ho\n"
     ]
    }
   ],
   "metadata": {}
  },
  {
   "cell_type": "markdown",
   "source": [
    "Conclusion: The two population variance are equal"
   ],
   "metadata": {}
  },
  {
   "cell_type": "markdown",
   "source": [
    "We use t - test formala for equal variance to test mean difference in mean fatigue between men and women"
   ],
   "metadata": {}
  },
  {
   "cell_type": "markdown",
   "source": [
    "$$H_o: \\mu_{men} - \\mu_{women} = 0$$"
   ],
   "metadata": {}
  },
  {
   "cell_type": "markdown",
   "source": [
    "$$H_1: \\mu_{men} - \\mu_{women} \\not= 0$$"
   ],
   "metadata": {}
  },
  {
   "cell_type": "code",
   "execution_count": 15,
   "source": [
    "# Create two lists of value for Men and Women\r\n",
    "Men = [34, 37, 43, 25, 51, 37, 21, 28]\r\n",
    "Women = [51, 53, 41, 59, 37, 42, 61, 52]\r\n",
    "n_men = 8\r\n",
    "n_women = 8\r\n",
    "# Compute sample variance and sample mean\r\n",
    "import statistics\r\n",
    "average_men = statistics.mean(Men)\r\n",
    "print(\"Sample mean for men =\", average_men)\r\n",
    "variance_men = statistics.variance(Men)\r\n",
    "print(\"Sample variance for men =\", variance_men)\r\n",
    "\r\n",
    "average_women = statistics.mean(Women)\r\n",
    "print(\"Sample mean for men =\", average_women)\r\n",
    "variance_women = statistics.variance(Women)\r\n",
    "print(\"Sample variance for women =\", variance_women)"
   ],
   "outputs": [
    {
     "output_type": "stream",
     "name": "stdout",
     "text": [
      "Sample mean for men = 34.5\n",
      "Sample variance for men = 96.0\n",
      "Sample mean for men = 49.5\n",
      "Sample variance for women = 75.42857142857143\n"
     ]
    }
   ],
   "metadata": {}
  },
  {
   "cell_type": "code",
   "execution_count": 38,
   "source": [
    "# Compute test statistic t_score\r\n",
    "t_score = ((average_men - average_women) -0)/(math.sqrt((variance_men*(n_men-1)+variance_women*(n_women-1))/(n_men+n_women-2))*math.sqrt(1/n_men+1/n_women))\r\n",
    "print(\"t_score =\", t_score)\r\n",
    "\r\n",
    "# Compute critical value\r\n",
    "alpha = 0.05\r\n",
    "df = n_men + n_women - 2\r\n",
    "from scipy.stats import t\r\n",
    "t_crit1 = t.ppf(alpha/2, df)\r\n",
    "print(\"Critical value 1 =\", t_crit1)\r\n",
    "t_crit2 = t.ppf(1 - alpha/2,df)\r\n",
    "print(\"Critical value 2 =\", t_crit2)"
   ],
   "outputs": [
    {
     "output_type": "stream",
     "name": "stdout",
     "text": [
      "t_score = -3.2403703492039297\n",
      "Critical value 1 = -2.1447866879169277\n",
      "Critical value 2 = 2.1447866879169273\n"
     ]
    }
   ],
   "metadata": {}
  },
  {
   "cell_type": "code",
   "execution_count": 39,
   "source": [
    "# Decision making\r\n",
    "if t_score > t_crit1 and t_score < t_crit2:\r\n",
    "    print(\"Do not reject Ho\")\r\n",
    "    print(t_score)\r\n",
    "else:\r\n",
    "    print(\"Reject Ho\")"
   ],
   "outputs": [
    {
     "output_type": "stream",
     "name": "stdout",
     "text": [
      "Reject Ho\n"
     ]
    }
   ],
   "metadata": {}
  },
  {
   "cell_type": "markdown",
   "source": [
    "Conclusion: There was a difference in mean fatigue between men and women when working at 16oC"
   ],
   "metadata": {}
  }
 ],
 "metadata": {
  "orig_nbformat": 4,
  "language_info": {
   "name": "python",
   "version": "3.9.1",
   "mimetype": "text/x-python",
   "codemirror_mode": {
    "name": "ipython",
    "version": 3
   },
   "pygments_lexer": "ipython3",
   "nbconvert_exporter": "python",
   "file_extension": ".py"
  },
  "kernelspec": {
   "name": "python3",
   "display_name": "Python 3.9.1 64-bit"
  },
  "interpreter": {
   "hash": "b04f92276c7f1f1d3a26077c5c09795688850f60751ffad3d76423a408f11422"
  }
 },
 "nbformat": 4,
 "nbformat_minor": 2
}