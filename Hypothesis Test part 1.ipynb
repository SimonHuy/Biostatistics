{
 "cells": [
  {
   "cell_type": "markdown",
   "source": [
    "Hypothesis Test Part 1. Basic Definitions\r\n"
   ],
   "metadata": {}
  },
  {
   "cell_type": "markdown",
   "source": [
    "What is Hypothesis Testing?\r\n",
    "\r\n",
    "Hypothesis testing in statistics is a way for you to test the results of a survey or experiment to see if you have meaningful results. You’re basically testing whether your results are valid by figuring out the odds that your results have happened by chance. If your results may have happened by chance, the experiment won’t be repeatable and so has little use.\r\n",
    "\r\n",
    "Hypothesis testing can be one of the most confusing aspects for students, mostly because before you can even perform a test, you have to know what your null hypothesis. \r\n",
    "\r\n",
    "https://www.statisticshowto.com/probability-and-statistics/hypothesis-testing/"
   ],
   "metadata": {}
  },
  {
   "cell_type": "markdown",
   "source": [
    "What is the Null Hypothesis?\r\n",
    "\r\n",
    "A null hypothesis, denoted by $H_o$, is an assertion about one or more population parameters.  This is the assertion we hold to be true until we have sufficient statistical evidence to conclude otherwise.\r\n",
    "\r\n",
    "If you trace back the history of science, the null hypothesis is always the accepted fact. Simple examples of null hypotheses that are generally accepted as being true are:\r\n",
    "\r\n",
    "+ DNA is shaped like a double helix.\r\n",
    "\r\n",
    "+ There are 8 planets in the solar system (excluding Pluto).\r\n",
    "\r\n",
    "+ A globe is spherical in shape\r\n"
   ],
   "metadata": {}
  },
  {
   "cell_type": "markdown",
   "source": [
    "What is the Alternative Hypothesis?\r\n",
    "\r\n",
    "The alternative hypothesis, denoted by $H_1$ or $H_a$, is the assertion of all situations not covered by the null hypothesis.\r\n",
    "\r\n",
    "This is the statement that one wants to conclude. It is also called the research hypothesis.\r\n"
   ],
   "metadata": {}
  },
  {
   "cell_type": "markdown",
   "source": [
    "$H_o$ and $H_1$ are :\r\n",
    "\r\n",
    "+ Mutually exclusive - Only one can be true.\r\n",
    "\r\n",
    "+ Exhaustive - Together they cover all possibilities, so one or the other must be true.\r\n"
   ],
   "metadata": {}
  },
  {
   "cell_type": "markdown",
   "source": [
    "Mathematical Symbols Used in $H_o$ and $H_1$:\r\n",
    "\r\n",
    "| $H_o$  | $H_1$  |   \r\n",
    "|---|---|\r\n",
    "| = | not equal (≠) or greater than ($>$) or less than ($<$) |   \r\n",
    "| $\\le$  | $>$  | \r\n",
    "| $\\ge$  | $<$ | \r\n",
    "\r\n"
   ],
   "metadata": {}
  },
  {
   "cell_type": "markdown",
   "source": [
    "Decision Making\r\n",
    "\r\n",
    "Reject $H_o$ (when state of nature $H_o$ is false) or Do not reject $H_o$ (when state of nature $H_o$)"
   ],
   "metadata": {}
  },
  {
   "cell_type": "markdown",
   "source": [
    "Errors in Hypothesis Testing\r\n",
    "\r\n",
    "|  Decision | $H_o$ True | $H_1$ False  |   \r\n",
    "|---|---|---|\r\n",
    "| Do not reject $H_o$ | Correct | Type II error ($\\beta$)|   \r\n",
    "| Reject $H_o$ | Type I error ($\\alpha$)  | Correct|\r\n",
    "\r\n",
    "\r\n"
   ],
   "metadata": {}
  },
  {
   "cell_type": "markdown",
   "source": [
    "The p-Value\r\n",
    "\r\n",
    "The p-value is the probability of obtaining a value of the test statistic as extreme as, or more extreme than, the actual value obtained, when the null hypothesis is true.\r\n",
    "\r\n",
    "The p-value is the smallest level of significance, $\\alpha$, at which the null hypothesis may be rejected using the obtained value of the test statistic. \r\n",
    "\r\n",
    "RULE: When the p-value is less than a , reject $H_o$.\r\n"
   ],
   "metadata": {}
  },
  {
   "cell_type": "markdown",
   "source": [
    "1-Tailed and 2-Tailed Tests\r\n",
    "\r\n",
    "Based on the Mathematical Symbols used in $H_1$, we say the test is 1 tailed or 2 tailed\r\n",
    "\r\n",
    "|  2 tailed Test | Right tailed test | Left tailed test  |   \r\n",
    "|---|---|---|\r\n",
    "| $\\mu$ ≠ 0| H1: $\\mu > 0$ | H1: $\\mu < 0$|   \r\n",
    "\r\n",
    "\r\n"
   ],
   "metadata": {}
  },
  {
   "cell_type": "markdown",
   "source": [
    "The Hypothesis Test\r\n",
    "\r\n",
    "This course introduces three different types of hypothesis tests, which are\r\n",
    "\r\n",
    "+ Tests of hypotheses about population means $\\mu$.\r\n",
    "\r\n",
    "+ Tests of hypotheses about population proportions p.\r\n",
    "\r\n",
    "+ Tests of hypotheses about population variances $\\sigma^2$.\r\n"
   ],
   "metadata": {}
  }
 ],
 "metadata": {
  "orig_nbformat": 4,
  "language_info": {
   "name": "python"
  }
 },
 "nbformat": 4,
 "nbformat_minor": 2
}