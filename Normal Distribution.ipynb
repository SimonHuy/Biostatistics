{
 "cells": [
  {
   "cell_type": "markdown",
   "source": [
    "NORMAL DISTRIBUTION\r\n",
    "\r\n",
    "In probability theory, a normal (or Gaussian or Gauss or Laplace–Gauss) distribution is a type of continuous probability distribution for a real-valued random variable. The general form of its probability density function is\r\n",
    "$$ f(x) = \\frac{1}{σ*\\sqrt{2*{\\Pi}}}*e^{\\frac{-1}{2}{(\\frac{x-μ}{σ})}^2}$$\r\n",
    "where:\r\n",
    "\r\n",
    "+ The parameter μ is the mean or expectation of the distribution\r\n",
    "\r\n",
    "+ The parameter σ is its standard deviation\r\n",
    "\r\n",
    "+ σ^2 is the variance\r\n",
    "\r\n",
    "A random variable with a Gaussian distribution is said to be normally distributed, and is called a normal deviate."
   ],
   "metadata": {}
  },
  {
   "cell_type": "markdown",
   "source": [
    "Properties of the Normal  Distribution:\r\n",
    "\r\n",
    "+ The mean, mode and median are all equal\r\n",
    "\r\n",
    "+ The curve is symmetric at the center (i.e. around the mean, μ)\r\n",
    "\r\n",
    "+ Because the distribution is symmetric, one-half (.50 or 50%) lies on either side of the mean\r\n",
    "\r\n",
    "+ The total area under the curve is 1\r\n",
    "\r\n",
    "+ If several independent random variables are normally distributed then their sum will also be normally distributed\r\n",
    "\r\n",
    "+ The mean of the sum will be the sum of all the individual means\r\n",
    "\r\n",
    "+ The variance of the sum will be the sum of all the individual variances\r\n"
   ],
   "metadata": {}
  }
 ],
 "metadata": {
  "orig_nbformat": 4,
  "language_info": {
   "name": "python"
  }
 },
 "nbformat": 4,
 "nbformat_minor": 2
}