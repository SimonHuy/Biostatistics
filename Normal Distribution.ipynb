{
 "cells": [
  {
   "cell_type": "markdown",
   "source": [
    "NORMAL DISTRIBUTION\r\n",
    "\r\n",
    "In probability theory, a normal (or Gaussian or Gauss or Laplace–Gauss) distribution is a type of continuous probability distribution for a real-valued random variable. The general form of its probability density function is\r\n",
    "$$ f(x) = \\frac{1}{σ*\\sqrt{2*{\\Pi}}}*e^{\\frac{-1}{2}{(\\frac{x-μ}{σ})}^2}$$\r\n",
    "where:\r\n",
    "\r\n",
    "+ The parameter μ is the mean or expectation of the distribution\r\n",
    "\r\n",
    "+ The parameter σ is its standard deviation\r\n",
    "\r\n",
    "+ σ^2 is the variance\r\n",
    "\r\n",
    "A random variable with a Gaussian distribution is said to be normally distributed, and is called a normal deviate."
   ],
   "metadata": {}
  },
  {
   "cell_type": "markdown",
   "source": [
    "Properties of the Normal  Distribution:\r\n",
    "\r\n",
    "+ The mean, mode and median are all equal\r\n",
    "\r\n",
    "+ The curve is symmetric at the center (i.e. around the mean, μ)\r\n",
    "\r\n",
    "+ Because the distribution is symmetric, one-half (.50 or 50%) lies on either side of the mean\r\n",
    "\r\n",
    "+ The total area under the curve is 1\r\n",
    "\r\n",
    "+ If several independent random variables are normally distributed then their sum will also be normally distributed\r\n",
    "\r\n",
    "+ The mean of the sum will be the sum of all the individual means\r\n",
    "\r\n",
    "E(S) = E(X1) + E(X2) + E(X3) + ... + E(Xn)\r\n",
    "\r\n",
    "+ The variance of the sum will be the sum of all the individual variances\r\n",
    "\r\n",
    "V(S) = V(X1) + V(X2) + V(X3) + ... + V(Xn)\r\n"
   ],
   "metadata": {}
  },
  {
   "cell_type": "markdown",
   "source": [
    "Exercise 1: Let X1, X2, and X3 be independent random variables that are normally distributed with means and variances as shown. Find mean and variance of Q = X1 - 4X2 + 3X3\r\n",
    "\r\n",
    "\r\n",
    "|   | Mean  | Variance  |   \r\n",
    "|---|---|---|\r\n",
    "|  X1 | 10  | 1  |   \r\n",
    "|  X2 | -20  | 2  | \r\n",
    "|  X3 | 30  | 3  |\r\n",
    "\r\n",
    "$$E(Q) = 1*10 - 4*(-20) + 3*30 = 180$$\r\n",
    "\r\n",
    "$$V(Q) =1^2*(1) +(-4)^2*2 + 3^2*3 = 60$$ \r\n"
   ],
   "metadata": {}
  },
  {
   "cell_type": "markdown",
   "source": [
    "The Standard Normal Distribution \r\n",
    "\r\n",
    "The standard normal random variable, Z, is the normal random variable with mean μ = 0 and standard deviation σ = 1 \r\n"
   ],
   "metadata": {}
  },
  {
   "cell_type": "markdown",
   "source": [
    "Exercise 2: Finding Probabilities of the Standard Normal Distribution: $$P(-1 <= Z <= 1)$$\r\n"
   ],
   "metadata": {}
  },
  {
   "cell_type": "code",
   "execution_count": 12,
   "source": [
    "from scipy.stats import norm \r\n",
    "# The standard normal distribution has mean = 0  and sd = 1\r\n",
    "mean = 0\r\n",
    "sd = 1\r\n",
    "\r\n",
    "# First, find P(Z <= -1)\r\n",
    "Z1 = -1\r\n",
    "P1 = norm(loc = mean , scale = sd).cdf(Z1)\r\n",
    "\r\n",
    "# Then, find P(Z <= 1)\r\n",
    "Z2 = 1\r\n",
    "P2 = norm(loc = mean , scale = sd).cdf(Z2)\r\n",
    "\r\n",
    "# P(-1 <= Z <= 1) = P(Z <= 1) - P(Z <= 1)\r\n",
    "P = P2 - P1\r\n",
    "\r\n",
    "# Print output\r\n",
    "print(P)\r\n"
   ],
   "outputs": [
    {
     "output_type": "stream",
     "name": "stdout",
     "text": [
      "0.6826894921370859\n"
     ]
    }
   ],
   "metadata": {}
  },
  {
   "cell_type": "markdown",
   "source": [
    "The Transformation of Normal Random Variables:\r\n",
    "\r\n",
    "An area under any normal distribution is equivalent to an area under the standard normal.\r\n",
    "\r\n",
    "The transformation of X to Z:\r\n",
    "\r\n",
    "$$ Z = \\frac{X - μ(X)}{σ(X)}$$"
   ],
   "metadata": {}
  },
  {
   "cell_type": "markdown",
   "source": [
    "Exercise 3: Using the normal transformation to find P(50 <= X <= 60) with μ = 55, σ = 5  "
   ],
   "metadata": {}
  },
  {
   "cell_type": "markdown",
   "source": [
    "$$P(50 <= X <= 60) = P(\\frac{50 - 55}{5} <= Z <= \\frac{60-55}{5}) = P(-1 <= Z <= 1) = 0.683$$"
   ],
   "metadata": {}
  },
  {
   "cell_type": "markdown",
   "source": [
    "Confidence Interval or Interval Estimate\r\n",
    "\r\n",
    "(https://www.simplypsychology.org/confidence-interval.html)\r\n",
    "\r\n",
    "The confidence interval (CI) is a range of values that’s likely to include a population value with a certain degree of confidence. It is often expressed as a % whereby a population mean lies between an upper and lower interval."
   ],
   "metadata": {}
  },
  {
   "cell_type": "markdown",
   "source": [
    "What does a 95% confidence interval mean?\r\n",
    "\r\n",
    "The 95% confidence interval is a range of values that you can be 95% confident contains the true mean of the population. Due to natural sampling variability, the sample mean (center of the CI) will vary from sample to sample.\r\n",
    "\r\n",
    "The confidence is in the method, not in a particular CI. If we repeated the sampling method many times, approximately 95% of the intervals constructed would capture the true population mean.\r\n",
    "\r\n",
    "Therefore, as the sample size increases, the range of interval values will narrow, meaning that you know that mean with much more accuracy compared with a smaller sample."
   ],
   "metadata": {}
  },
  {
   "cell_type": "markdown",
   "source": [
    "Confidence Interval for μ when σ is Known \r\n",
    "$$ \\bar{X} - Z(\\frac{\\alpha}{2})*\\frac{σ}{\\sqrt{n}} <= μ <= \\bar{X} + Z(\\frac{\\alpha}{2})*\\frac{σ}{\\sqrt{n}} $$\r\n",
    "where:\r\n",
    "\r\n",
    "+ $\\bar{X}$ is sample mean or sample average\r\n",
    "\r\n",
    "+ σ is the population standard deviation\r\n",
    "\r\n",
    "+ n is the sample size\r\n",
    "\r\n",
    "+ $\\alpha$ is significance level\r\n",
    "\r\n",
    "+ $(1-\\alpha)*100\\%$ is called confidence level\r\n",
    "\r\n",
    "+ Z is the critical value"
   ],
   "metadata": {}
  },
  {
   "cell_type": "markdown",
   "source": [
    "Exercise 4: A sample of size n = 100 produced the sample mean = 16. Assuming the population standard deviation σ = 3, compute a 95% confidence interval for the population mean µ"
   ],
   "metadata": {}
  },
  {
   "cell_type": "code",
   "execution_count": 25,
   "source": [
    "# Set variables\r\n",
    "n = 100 \r\n",
    "X_bar = 16\r\n",
    "σ = 3\r\n",
    "alpha = 1 - 0.95\r\n",
    "\r\n",
    "# Find critical value Z(alpha/2)\r\n",
    "import scipy.stats\r\n",
    "Z = scipy.stats.norm.ppf(alpha/2)\r\n",
    "\r\n",
    "# Find lower value\r\n",
    "import math\r\n",
    "Lower_Value = X_bar + Z*(σ/(math.sqrt(n)))\r\n",
    "\r\n",
    "# Find the upper value\r\n",
    "Upper_Value = X_bar - Z*(σ/(math.sqrt(n)))\r\n",
    "\r\n",
    "# Print the result\r\n",
    "print(\"We are 95% confident that the population mean is from {Lower_Value} to {Upper_Value} \".format(Lower_Value=Lower_Value,Upper_Value=Upper_Value))\r\n"
   ],
   "outputs": [
    {
     "output_type": "stream",
     "name": "stdout",
     "text": [
      "We are 95% confident that the population mean is from 15.412010804637983 to 16.587989195362017 \n"
     ]
    }
   ],
   "metadata": {}
  },
  {
   "cell_type": "markdown",
   "source": [
    "Confidence Interval for μ when σ is Unknown \r\n",
    "$$ \\bar{X} - t(\\frac{\\alpha}{2},n-1)*\\frac{sd}{\\sqrt{n}} <= μ <= \\bar{X} + t(\\frac{\\alpha}{2},n-1)*\\frac{sd}{\\sqrt{n}} $$\r\n",
    "where:\r\n",
    "\r\n",
    "+ $\\bar{X}$ is sample mean or sample average\r\n",
    "\r\n",
    "+ sd is the sample standard deviation\r\n",
    "\r\n",
    "+ n is the sample size\r\n",
    "\r\n",
    "+ n - 1 is the degreew of freedom\r\n",
    "\r\n",
    "+ $\\alpha$ is significance level\r\n",
    "\r\n",
    "+ $(1-\\alpha)*100\\%$ is called confidence level\r\n",
    "\r\n",
    "+ t is the critical value"
   ],
   "metadata": {}
  },
  {
   "cell_type": "markdown",
   "source": [
    "Exercise 5: A blood analyst wants to estimate the average AFP index of the Vietnamese people.  A random blood sample of  size 15 yields an average of 10.37 mg/ml and a standard deviation of s = 3.5 ng/ml.  Assuming a normal population of the AFP values, give a 95% confidence interval for the average AFP value of the Vietnamese population? (AFP=alpha-fetoprotein)\r\n"
   ],
   "metadata": {}
  },
  {
   "cell_type": "code",
   "execution_count": 26,
   "source": [
    "# Set variables\r\n",
    "n = 15 \r\n",
    "X_bar = 10.37\r\n",
    "sd = 3.5\r\n",
    "alpha = 1 - 0.95\r\n",
    "\r\n",
    "# degree of freedom = n -1\r\n",
    "df = n - 1\r\n",
    "\r\n",
    "# Find critical value Z(alpha/2)\r\n",
    "import scipy.stats\r\n",
    "t = scipy.stats.t.ppf(alpha/2,df)\r\n",
    "\r\n",
    "# Find lower value\r\n",
    "import math\r\n",
    "Lower_Value = X_bar + t*(sd/(math.sqrt(n)))\r\n",
    "\r\n",
    "# Find the upper value\r\n",
    "Upper_Value = X_bar - t*(sd/(math.sqrt(n)))\r\n",
    "\r\n",
    "# Print the result\r\n",
    "print(\"We are 95% confident that the population mean is from {Lower_Value} to {Upper_Value} \".format(Lower_Value=Lower_Value,Upper_Value=Upper_Value))\r\n"
   ],
   "outputs": [
    {
     "output_type": "stream",
     "name": "stdout",
     "text": [
      "We are 95% confident that the population mean is from 8.431764604523753 to 12.308235395476245 \n"
     ]
    }
   ],
   "metadata": {}
  },
  {
   "cell_type": "markdown",
   "source": [
    "Large-Sample Confidence Intervals for the Population Proportion, p\r\n",
    "$$p' - Z(\\frac{\\alpha}{2})*\\sqrt{\\frac{p'q'}{n}} <= p <= p' + Z(\\frac{\\alpha}{2})*\\sqrt{\\frac{p'q'}{n}}$$\r\n",
    "where:\r\n",
    "\r\n",
    "+ p is the population proportion\r\n",
    "\r\n",
    "+ p' is the sample proportion (sometimes it is denoted as P^ and read P hat)\r\n",
    "\r\n",
    "+ q' = 1 - p'\r\n",
    "\r\n"
   ],
   "metadata": {}
  },
  {
   "cell_type": "markdown",
   "source": [
    "Exercise 6: Out of 250 patients treated with a particular drug, 206 recovered completely. Find a 95% confidence interval for overall proportion of patients who can be expected to recover when treated with this drug."
   ],
   "metadata": {}
  },
  {
   "cell_type": "code",
   "execution_count": 31,
   "source": [
    "# Set variables\r\n",
    "n = 250\r\n",
    "p_hat = 206/n\r\n",
    "q_hat = 1 - p_hat\r\n",
    "alpha = 1 - 0.95\r\n",
    "\r\n",
    "# Find critical value Z(alpha/2)\r\n",
    "import scipy.stats\r\n",
    "Z = scipy.stats.norm.ppf(alpha/2)\r\n",
    "\r\n",
    "# Find lower value\r\n",
    "import math\r\n",
    "Lower_Value = p_hat + Z*math.sqrt((p_hat*q_hat)/n)\r\n",
    "\r\n",
    "# Find upper value\r\n",
    "Upper_Value = p_hat - Z*math.sqrt((p_hat*q_hat)/n)\r\n",
    "\r\n",
    "# Print the result\r\n",
    "print(\"We are 95% confident that the proportion of patients who can be expected to recover when treated with this drug is from {Lower_Value} to {Upper_Value} \".format(Lower_Value=Lower_Value,Upper_Value=Upper_Value))\r\n",
    "\r\n"
   ],
   "outputs": [
    {
     "output_type": "stream",
     "name": "stdout",
     "text": [
      "We are 95% confident that the proportion of patients who can be expected to recover when treated with this drug is from 0.7767939103923087 to 0.8712060896076912 \n"
     ]
    }
   ],
   "metadata": {}
  }
 ],
 "metadata": {
  "orig_nbformat": 4,
  "language_info": {
   "name": "python",
   "version": "3.9.1",
   "mimetype": "text/x-python",
   "codemirror_mode": {
    "name": "ipython",
    "version": 3
   },
   "pygments_lexer": "ipython3",
   "nbconvert_exporter": "python",
   "file_extension": ".py"
  },
  "kernelspec": {
   "name": "python3",
   "display_name": "Python 3.9.1 64-bit"
  },
  "interpreter": {
   "hash": "b04f92276c7f1f1d3a26077c5c09795688850f60751ffad3d76423a408f11422"
  }
 },
 "nbformat": 4,
 "nbformat_minor": 2
}